{
 "cells": [
  {
   "cell_type": "code",
   "execution_count": 2,
   "id": "0ad7ac36-9461-4077-b943-aebfecd92fe3",
   "metadata": {},
   "outputs": [
    {
     "name": "stdout",
     "output_type": "stream",
     "text": [
      "\n",
      "File listing and status\n",
      "-rw-r--r--  1 vibhaganji  wheel  808 Aug 28 20:25 sample.md\n",
      "      15     132     808 sample.md\n"
     ]
    },
    {
     "name": "stderr",
     "output_type": "stream",
     "text": [
      "/Users/vibhaganji/.rbenv/versions/3.1.4/lib/ruby/3.1.0/fileutils.rb:243:in `mkdir': Permission denied @ dir_s_mkdir - /Users/vibhaganji/.config/mdless (Errno::EACCES)\n",
      "\tfrom /Users/vibhaganji/.rbenv/versions/3.1.4/lib/ruby/3.1.0/fileutils.rb:243:in `fu_mkdir'\n",
      "\tfrom /Users/vibhaganji/.rbenv/versions/3.1.4/lib/ruby/3.1.0/fileutils.rb:221:in `block (2 levels) in mkdir_p'\n",
      "\tfrom /Users/vibhaganji/.rbenv/versions/3.1.4/lib/ruby/3.1.0/fileutils.rb:219:in `reverse_each'\n",
      "\tfrom /Users/vibhaganji/.rbenv/versions/3.1.4/lib/ruby/3.1.0/fileutils.rb:219:in `block in mkdir_p'\n",
      "\tfrom /Users/vibhaganji/.rbenv/versions/3.1.4/lib/ruby/3.1.0/fileutils.rb:211:in `each'\n",
      "\tfrom /Users/vibhaganji/.rbenv/versions/3.1.4/lib/ruby/3.1.0/fileutils.rb:211:in `mkdir_p'\n",
      "\tfrom /Users/vibhaganji/gems/gems/mdless-2.1.44/lib/mdless/converter.rb:268:in `initialize'\n",
      "\tfrom /Users/vibhaganji/gems/gems/mdless-2.1.44/bin/mdless:18:in `new'\n",
      "\tfrom /Users/vibhaganji/gems/gems/mdless-2.1.44/bin/mdless:18:in `<top (required)>'\n",
      "\tfrom /Users/vibhaganji/gems/bin/mdless:25:in `load'\n",
      "\tfrom /Users/vibhaganji/gems/bin/mdless:25:in `<main>'\n"
     ]
    }
   ],
   "source": [
    "%%script bash\n",
    "\n",
    "# gem install mdless\n",
    "cd /tmp\n",
    "\n",
    "\n",
    "file=\"sample.md\"\n",
    "if [ -f \"$file\" ]; then\n",
    "    rm $file\n",
    "fi\n",
    "\n",
    "# Create a markdown file using tee and here document (<<EOF)\n",
    "tee -a $file >/dev/null <<EOF\n",
    "# Show Generated Markdown\n",
    "This introductory paragraph and this line and the title above are generated using tee with the standard input (<<) redirection operator.\n",
    "- This bulleted element is still part of the tee body.\n",
    "EOF\n",
    "\n",
    "# Append additional lines to the markdown file using echo and redirection (>>)\n",
    "echo \"- This bulleted element and lines below are generated using echo with standard output (>>) redirection operator.\" >> $file\n",
    "echo \"- The list definition, as is, is using space to separate lines. Thus the use of commas and hyphens in output.\" >> $file\n",
    "\n",
    "# Define an array of actions and their descriptions\n",
    "actions=(\"ls,list-directory\" \"cd,change-directory\" \"pwd,present-working-directory\" \"if-then-fi,test-condition\" \"env,bash-environment-variables\" \"cat,view-file-contents\" \"tee,write-to-output\" \"echo,display-content-of-string\" \"echo_text_>\\$file,write-content-to-file\" \"echo_text_>>\\$file,append-content-to-file\")\n",
    "\n",
    "# Loop through the actions array and append each action to the markdown file\n",
    "for action in ${actions[@]}; do\n",
    "  action=${action//-/ }  # Convert dash to space\n",
    "  action=${action//,/: } # Convert comma to colon\n",
    "  action=${action//_text_/ \\\"sample text\\\" } # Convert _text_ to \"sample text\", note escape character \\ to avoid \"\" having meaning\n",
    "  echo \"    - ${action//-/ }\" >> $file  # Append action to file\n",
    "done\n",
    "\n",
    "echo \"\"\n",
    "echo \"File listing and status\"\n",
    "ls -l $file # List file details\n",
    "wc $file   # Show word count\n",
    "mdless $file  # Render markdown from terminal (requires mdless installation)\n",
    "\n",
    "rm $file  # Clean up temporary file"
   ]
  },
  {
   "cell_type": "code",
   "execution_count": null,
   "id": "0ff308c4-df34-4444-8991-f110fe984ca1",
   "metadata": {},
   "outputs": [],
   "source": []
  }
 ],
 "metadata": {
  "kernelspec": {
   "display_name": "Python 3 (ipykernel)",
   "language": "python",
   "name": "python3"
  },
  "language_info": {
   "codemirror_mode": {
    "name": "ipython",
    "version": 3
   },
   "file_extension": ".py",
   "mimetype": "text/x-python",
   "name": "python",
   "nbconvert_exporter": "python",
   "pygments_lexer": "ipython3",
   "version": "3.10.13"
  }
 },
 "nbformat": 4,
 "nbformat_minor": 5
}
