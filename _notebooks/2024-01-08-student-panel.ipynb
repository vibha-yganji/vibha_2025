{
 "cells": [
  {
   "cell_type": "markdown",
   "metadata": {},
   "source": [
    "---\n",
    "layout: post\n",
    "title: Student Panel\n",
    "permalink: /student-panel\n",
    "---"
   ]
  },
  {
   "cell_type": "markdown",
   "metadata": {},
   "source": [
    "**Student Panel Session #1 + 2 (January 8,9 2025):**\n",
    "![img](https://i.ibb.co/BGgpnG8/IMG-0147.jpg)\n",
    "\n",
    "##### **Points That Stood Out:**\n",
    "- I was really suprised when Vivian mentioned how that using GitHub was not a commonly known skill even among people that participated in hackathons. \n",
    "- The speakers also described how for a lot of internships during their first year at college, the recruiters were impressed by the past projects they had done during high school. \n",
    "- The speakers also discussed the importance of building a personal portfolio as a place to display all of your past work since a resume is not comprehensive enough. \n",
    "- During the second student panel, one of the speakers mentioned how his project ideas came from unmet needs that surrounded him in his community. \n",
    "- GitHub Issues is also an important skill. \n",
    "\n",
    "##### **Reflection**\n",
    "I think that listerning to the panel made me think more deeply about how I can better present my past work so that it is more appealing to an audience of recruiters. The speakers discussed this aspect in detail by describing how even if there was a gap in intelligence, the person who was more able to talk about their work was more favored. I will revisit my blog and make it more comprehensive regarding documentation of my past work and other aspects of my life. Additionally, the speakers also discussed the importance of documenting all aspects of a project on platforms such as GitHub issues (or GitBooks as the first student panel mentioned) which definitely made me want to be more careful + aware in the future when doing projects. \n",
    "\n"
   ]
  }
 ],
 "metadata": {
  "language_info": {
   "name": "python"
  }
 },
 "nbformat": 4,
 "nbformat_minor": 2
}
