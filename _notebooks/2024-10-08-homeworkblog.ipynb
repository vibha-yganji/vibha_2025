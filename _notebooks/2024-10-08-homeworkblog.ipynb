{
 "cells": [
  {
   "cell_type": "markdown",
   "metadata": {},
   "source": [
    "---\n",
    "layout: page\n",
    "title: Homework Blog\n",
    "permalink: /hw_blog\n",
    "comments: true\n",
    "---"
   ]
  },
  {
   "cell_type": "markdown",
   "metadata": {},
   "source": [
    "<html lang=\"en\">\n",
    "<head>\n",
    "    <meta charset=\"UTF-8\">\n",
    "    <meta name=\"viewport\" content=\"width=device-width, initial-scale=1.0\">\n",
    "    <title>Bouncing Ball Animation</title>\n",
    "    <style>\n",
    "        canvas {\n",
    "            border: 1px solid black;\n",
    "            display: block;\n",
    "            margin: auto;\n",
    "            background-color: #f0f0f0;\n",
    "        }\n",
    "    </style>\n",
    "</head>\n",
    "<body>\n",
    "    <canvas id=\"canvas\" width=\"500\" height=\"500\"></canvas>\n",
    "    <script>\n",
    "        const canvas = document.getElementById('canvas');\n",
    "        const ctx = canvas.getContext('2d');\n",
    "\n",
    "        class Ball {\n",
    "            constructor(x, y, diameter) {\n",
    "                this.x = x;\n",
    "                this.y = y;\n",
    "                this.diameter = diameter;\n",
    "                this.xSpeed = Math.random() * 4 + 1; // Speed in x direction\n",
    "                this.ySpeed = Math.random() * 4 + 1; // Speed in y direction\n",
    "                this.color = 'red'; // Default color\n",
    "            }\n",
    "\n",
    "            move() {\n",
    "                this.x += this.xSpeed;\n",
    "                this.y += this.ySpeed;\n",
    "\n",
    "                // Bounce off walls\n",
    "                if (this.x < 0 || this.x + this.diameter > canvas.width) {\n",
    "                    this.xSpeed = -this.xSpeed;\n",
    "                }\n",
    "                if (this.y < 0 || this.y + this.diameter > canvas.height) {\n",
    "                    this.ySpeed = -this.ySpeed;\n",
    "                }\n",
    "            }\n",
    "\n",
    "            draw() {\n",
    "                ctx.fillStyle = this.color;\n",
    "                ctx.beginPath();\n",
    "                ctx.arc(this.x, this.y, this.diameter / 2, 0, Math.PI * 2);\n",
    "                ctx.fill();\n",
    "                ctx.closePath();\n",
    "            }\n",
    "        }\n",
    "\n",
    "        const balls = [];\n",
    "        for (let i = 0; i < 10; i++) {\n",
    "            balls.push(new Ball(Math.random() * 400, Math.random() * 400, 30));\n",
    "        }\n",
    "\n",
    "        function animate() {\n",
    "            ctx.clearRect(0, 0, canvas.width, canvas.height); // Clear the canvas\n",
    "            for (let ball of balls) {\n",
    "                ball.move();\n",
    "                ball.draw();\n",
    "            }\n",
    "            requestAnimationFrame(animate); // Call animate again for the next frame\n",
    "        }\n",
    "\n",
    "        animate(); // Start the animation\n",
    "    </script>\n",
    "</body>\n",
    "</html>\n"
   ]
  },
  {
   "cell_type": "code",
   "execution_count": null,
   "metadata": {
    "vscode": {
     "languageId": "java"
    }
   },
   "outputs": [],
   "source": []
  }
 ],
 "metadata": {
  "kernelspec": {
   "display_name": "Java",
   "language": "java",
   "name": "java"
  },
  "language_info": {
   "codemirror_mode": "java",
   "file_extension": ".jshell",
   "mimetype": "text/x-java-source",
   "name": "Java",
   "pygments_lexer": "java",
   "version": "17.0.11+7-LTS-207"
  }
 },
 "nbformat": 4,
 "nbformat_minor": 2
}
