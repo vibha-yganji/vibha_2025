{
 "cells": [
  {
   "cell_type": "markdown",
   "metadata": {},
   "source": [
    "---\n",
    "layout: page\n",
    "title: Homework Blog\n",
    "permalink: /hw_blog\n",
    "comments: true\n",
    "---"
   ]
  },
  {
   "cell_type": "markdown",
   "metadata": {},
   "source": [
    "| **Assignment**             | **Points**    | **Grade** | **Evidence** |\n",
    "|----------------------------|---------------|-----------|--------------|\n",
    "| Pull Request (Integration) | 2             |   1.7        |              |\n",
    "| Relevancy Checklist (Peer) | 2             |      1.7     |              |\n",
    "| Lesson (Group)             | 1             |    0.9       |              |\n",
    "| Homework, Popcorn Hacks    | 1 x 8         |  (0.9 + 0.8)         |              |\n",
    "| Individual Contribution    | 1             |   0.85        |              |\n",
    "| Personal Notebooks / Blogs | 1             |   0.88        |              |\n",
    "| **Total**                  | 12            |           |              |\n",
    "\n",
    "\n",
    "\n",
    "\n"
   ]
  },
  {
   "cell_type": "markdown",
   "metadata": {
    "vscode": {
     "languageId": "java"
    }
   },
   "source": [
    "| **Skill**                  | **Points**    | **Grade** | **Evidence** |\n",
    "|----------------------------|---------------|-----------|--------------|\n",
    "| Work Habits (Analytics)    |   1           |    0.88       |              |\n",
    "| Team Planning (Issue)      |   1           |    0.85       |              |\n",
    "| Presentation Memories      |   1           |  0.88        |              |\n",
    "| Grading and Feedback       |   1           |   0.89        |              |\n",
    "| Beyond Perfunctory         |   1           |   0.88        |              | \n",
    "| **Total**                  |   5           |           |              |"
   ]
  }
 ],
 "metadata": {
  "kernelspec": {
   "display_name": "Java",
   "language": "java",
   "name": "java"
  },
  "language_info": {
   "codemirror_mode": "java",
   "file_extension": ".jshell",
   "mimetype": "text/x-java-source",
   "name": "Java",
   "pygments_lexer": "java",
   "version": "17.0.11+7-LTS-207"
  }
 },
 "nbformat": 4,
 "nbformat_minor": 2
}
