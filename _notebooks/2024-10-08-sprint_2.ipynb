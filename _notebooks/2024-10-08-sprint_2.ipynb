{
 "cells": [
  {
   "cell_type": "markdown",
   "metadata": {},
   "source": [
    "---\n",
    "layout: post\n",
    "title: Sprint 2 (in progress)\n",
    "permalink: /sprint2_blog\n",
    "toc: true\n",
    "comments: true\n",
    "---"
   ]
  },
  {
   "cell_type": "markdown",
   "metadata": {},
   "source": [
    "| **Assignment**             | **Points**    | **Grade** | **Evidence** |\n",
    "|----------------------------|---------------|-----------|--------------|\n",
    "| Pull Request (Integration) | 2             |   1.7        |  ![image](https://i.ibb.co/4dbWd5n/Image-10-10-24-at-12-04-AM.jpg)          |\n",
    "| Relevancy Checklist (Peer) | 2             |      1.7     |  (Done Below)            |\n",
    "| Lesson (Group)             | 1             |    0.9       | [Link to Lesson](https://nighthawkcoders.github.io/portfolio_2025/unit8lesson-p1)   ![image](https://i.ibb.co/QCbF0hD/Image-10-10-24-at-12-09-AM.jpg)       |\n",
    "| Homework, Popcorn Hacks    | 1 x 8         |  (0.9 + 0.9 + 0.88 + 0.9 + 0.89 + 0.90 + 0.88 + 0.90)  = 7.15         |  Table at the top of Unit Review Page provides links to all blog post homepages           |\n",
    "| Individual Contribution    | 1             |   0.85        |   ![image](https://i.ibb.co/fG8s4JS/Image-10-10-24-at-12-11-AM.jpg)          |\n",
    "| Personal Notebooks / Blogs | 1             |   0.88        |  [Unit Reviews](https://vibha-yganji.github.io/vibha_2025/unit_review)            |\n",
    "| **Total**                  | 12            |           |              |\n"
   ]
  },
  {
   "cell_type": "markdown",
   "metadata": {
    "vscode": {
     "languageId": "java"
    }
   },
   "source": [
    "| **Skill**                  | **Points**    | **Grade** | **Evidence** |\n",
    "|----------------------------|---------------|-----------|--------------|\n",
    "| Work Habits (Analytics)    |   1           |    0.88       |   ![image](https://i.ibb.co/18Mp31f/Image-10-10-24-at-12-13-AM.jpg)           |\n",
    "| Team Planning (Issue)      |   1           |    0.85       |    [Planning Issue](https://i.ibb.co/18Mp31f/Image-10-10-24-at-12-13-AM.jpg)          |\n",
    "| Presentation Memories      |   1           |  0.88        |              |\n",
    "| Grading and Feedback       |   1           |   0.89        |  [Grading Sheet](https://docs.google.com/spreadsheets/d/1jYd1wNuI3DYkwPON9QLqkNMV9_eoeDTWnHPtuYELks8/edit?gid=1940342242#gid=1940342242)  ![image](https://i.ibb.co/61vYK2Y/Image-10-10-24-at-12-17-AM.jpg)          |\n",
    "| Beyond Perfunctory         |   1           |   0.88        |  Mapped content to types of questions asked by Collegeboard; provide examples of specific FRQs that could be used for additional practice.             | \n",
    "| **Total**                  |   5           |           |              |\n"
   ]
  }
 ],
 "metadata": {
  "kernelspec": {
   "display_name": "Java",
   "language": "java",
   "name": "java"
  },
  "language_info": {
   "codemirror_mode": "java",
   "file_extension": ".jshell",
   "mimetype": "text/x-java-source",
   "name": "Java",
   "pygments_lexer": "java",
   "version": "17.0.11+7-LTS-207"
  }
 },
 "nbformat": 4,
 "nbformat_minor": 2
}
