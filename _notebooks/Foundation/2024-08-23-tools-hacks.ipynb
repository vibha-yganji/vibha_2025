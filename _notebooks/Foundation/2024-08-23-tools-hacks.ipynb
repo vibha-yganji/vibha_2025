{
 "cells": [
  {
   "cell_type": "markdown",
   "metadata": {},
   "source": [
    "---\n",
    "layout: post\n",
    "title: Installation Hacks\n",
    "permalink: /tools_hacks\n",
    "---"
   ]
  },
  {
   "cell_type": "markdown",
   "metadata": {},
   "source": [
    "# Tool Installation Hacks \n",
    "\n",
    "### Shell Commmands\n",
    "\n",
    "- **brew:**\n",
    "    - Purpose: brew is a package manager for macOS (and Linux) that simplifies the process of installing, updating, and managing software packages. It allows users to install a wide variety of applications and utilities from the command line.\n",
    "- **git:** \n",
    "    - Purpose: git is a version control system that helps track changes to files and collaborate on projects, especially in software development. It allows you to manage code repositories, commit changes, branch out for different features or fixes, and merge them back together.\n",
    "- **cd:**\n",
    "    - Purpose: Purpose: cd stands for \"change directory.\" It is used to navigate between directories in the shell. When you type cd followed by a directory name, you move into that directory, making it your current working directory.\n",
    "- **ls:**\n",
    "    - Purpose: Purpose: ls is a command that lists the contents of a directory. When you run ls, it displays the files and folders in the current directory. It can also show additional details like file permissions, sizes, and modification dates when used with options like -l (long format).\n"
   ]
  },
  {
   "cell_type": "markdown",
   "metadata": {},
   "source": [
    "## Version Control\n",
    "\n",
    "Version control is a crucial part of the development process, allowing you to track changes, collaborate with others, and manage multiple versions of your project. Here are some key points:\n",
    "\n",
    "- **Cloning a Repository:** The files from GitHub are placed on your local machine using the git clone command. This creates a copy of the repository in your chosen directory.\n",
    "\n",
    "**Navigating Files**: After cloning, you can navigate to the files using the cd command.\n",
    "\n",
    "**Updating Files**: Files on GitHub are updated using commands like git add, git commit, and git push. These commands stage changes, commit them with a message, and push the updates to the GitHub repository.\n",
    "\n",
    "**Updating Your Template**: To update the template of the portfolio_2025 repository and make it applicable to your specific course, you would customize the content, structure, and styles according to the course requirements. After making changes, you would push them to GitHub using git push.\n",
    "\n",
    "## Localhost vs. Deployed Server\n",
    "\n",
    "**Localhost**: Viewing your project on localhost means you're running the project on your local machine. The URL for localhost is typically something like http://localhost:8000. Only you can see this version unless you share your screen or expose the port to others.\n",
    "Deployed Server: Viewing your project on a deployed server, like GitHub Pages, means it's accessible on the internet. The URL is usually in the format https://username.github.io/portfolio_2025, and anyone with the link can view it.\n",
    "\n",
    "## DNS and GitHub Pages\n",
    "\n",
    "**Domain**: GitHub Pages automatically provides a domain, typically username.github.io/repository-name. You can also set up a custom domain if you own one.\n",
    "\n",
    "**URL Differences**: The URL for your GitHub Pages project is unique to your repository. It will be different from your neighbors' URLs unless you're working on a shared repository. If you change the repository name or set up a custom domain, the URL will change accordingly.\n",
    "\n",
    "\n",
    "\n",
    "\n",
    "\n",
    "\n",
    "\n",
    "\n"
   ]
  },
  {
   "cell_type": "markdown",
   "metadata": {},
   "source": [
    "## Tool Verification Hacks"
   ]
  },
  {
   "cell_type": "code",
   "execution_count": null,
   "metadata": {},
   "outputs": [],
   "source": []
  },
  {
   "cell_type": "code",
   "execution_count": null,
   "metadata": {},
   "outputs": [],
   "source": [
    "%%script bash\n",
    "\n",
    "# Load saved variables from the configuration file\n",
    "source /tmp/variables.sh\n",
    "\n",
    "# Display the project directory, project path, and repository URL\n",
    "echo \"Project dir: $project_dir\"\n",
    "echo \"Project: $project\"\n",
    "echo \"Repo: $project_repo\"\n",
    "\n",
    "###########"
   ]
  },
  {
   "cell_type": "code",
   "execution_count": null,
   "metadata": {},
   "outputs": [],
   "source": [
    "## Our team also created a bash script to check the ruby version, the python version, the Jupyter notebook, and all available Jupyter kernels\n",
    "\n",
    "%%script bash\n",
    "\n",
    "# Function to check the command existence\n",
    "check_command() {\n",
    "    if ! command -v \"$1\" &> /dev/null; then\n",
    "        echo \"$1 is not installed or not in the system's PATH.\"\n",
    "    else\n",
    "        $2\n",
    "    fi\n",
    "}\n",
    "\n",
    "# Check Ruby version\n",
    "check_command ruby \"ruby --version\"\n",
    "\n",
    "# Check Python version\n",
    "check_command python \"python --version\"\n",
    "\n",
    "# Check Jupyter Notebook version\n",
    "check_command jupyter \"jupyter notebook --version\"\n",
    "\n",
    "# List Jupyter kernelspecs\n",
    "check_command jupyter \"jupyter kernelspec list\"\n",
    "\n",
    "# Check Python 3 version (if you have multiple versions of Python installed)\n",
    "check_command python3 \"python3 --version\"\n"
   ]
  },
  {
   "cell_type": "code",
   "execution_count": null,
   "metadata": {},
   "outputs": [],
   "source": []
  }
 ],
 "metadata": {
  "language_info": {
   "name": "python"
  }
 },
 "nbformat": 4,
 "nbformat_minor": 2
}
