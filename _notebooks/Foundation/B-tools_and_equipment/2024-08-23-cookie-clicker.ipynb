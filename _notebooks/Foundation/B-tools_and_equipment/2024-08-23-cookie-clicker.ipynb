{
 "cells": [
  {
   "cell_type": "markdown",
   "metadata": {},
   "source": [
    "---\n",
    "layout: post\n",
    "title: Cookie Clicker Game\n",
    "permalink: /cookie\n",
    "---"
   ]
  },
  {
   "cell_type": "markdown",
   "metadata": {},
   "source": [
    "<html lang=\"en\">\n",
    "<head>\n",
    "    <meta charset=\"UTF-8\">\n",
    "    <meta name=\"viewport\" content=\"width=device-width, initial-scale=1.0\">\n",
    "    <title>Cookie Clicker Game</title>\n",
    "    <style>\n",
    "        body {\n",
    "            font-family: Arial, sans-serif;\n",
    "            display: flex;\n",
    "            justify-content: center;\n",
    "            align-items: center;\n",
    "            height: 100vh;\n",
    "            margin: 0;\n",
    "            background-color: #f7f7f7;\n",
    "        }\n",
    "\n",
    "        .container {\n",
    "            text-align: center;\n",
    "        }\n",
    "\n",
    "        .cookie {\n",
    "            font-size: 100px;\n",
    "            cursor: pointer;\n",
    "            transition: transform 0.2s;\n",
    "        }\n",
    "\n",
    "        .cookie:hover {\n",
    "            transform: scale(1.1);\n",
    "        }\n",
    "\n",
    "        h1 {\n",
    "            margin-bottom: 20px;\n",
    "        }\n",
    "    </style>\n",
    "</head>\n",
    "<body>\n",
    "    <div class=\"container\">\n",
    "        <h1>Cookie Clicker Game</h1>\n",
    "        <div class=\"cookie\" id=\"cookie\">🍪</div>\n",
    "        <p>Score: <span id=\"score\">0</span></p>\n",
    "    </div>\n",
    "    <script>\n",
    "        document.addEventListener('DOMContentLoaded', () => {\n",
    "            let score = 0;\n",
    "            const scoreElement = document.getElementById('score');\n",
    "            const cookieElement = document.getElementById('cookie');\n",
    "\n",
    "            cookieElement.addEventListener('click', () => {\n",
    "                score += 1;\n",
    "                scoreElement.textContent = score;\n",
    "            });\n",
    "        });\n",
    "    </script>\n",
    "</body>\n",
    "</html>\n"
   ]
  }
 ],
 "metadata": {
  "language_info": {
   "name": "python"
  }
 },
 "nbformat": 4,
 "nbformat_minor": 2
}
