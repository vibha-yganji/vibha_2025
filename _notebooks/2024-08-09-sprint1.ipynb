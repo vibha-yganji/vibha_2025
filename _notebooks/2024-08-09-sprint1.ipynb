{
 "cells": [
  {
   "cell_type": "markdown",
   "metadata": {},
   "source": [
    "---\n",
    "layout: post\n",
    "title: Review for Sprint 1\n",
    "permalink: /sprint1\n",
    "comments: true\n",
    "---"
   ]
  },
  {
   "cell_type": "markdown",
   "metadata": {},
   "source": [
    "| Assignment            | Link                  |\n",
    "|-----------------------|-----------------------|\n",
    "| Tools/Equipment       |    [Tools Hacks](https://vibha-yganji.github.io/vibha_2025/tools_hacks)       |\n",
    "| Frontend Development  | [Frontend Development](https://vibha-yganji.github.io/vibha_2025/)  |\n",
    "| Github Pages Hacks    | [Github Pages Hacks](https://vibha-yganji.github.io/vibha_2025/)    |\n",
    "| SASS Hacks            | Styling               |\n",
    "| Pair Programming      | Cookie Clicker        |"
   ]
  }
 ],
 "metadata": {
  "language_info": {
   "name": "python"
  }
 },
 "nbformat": 4,
 "nbformat_minor": 2
}
