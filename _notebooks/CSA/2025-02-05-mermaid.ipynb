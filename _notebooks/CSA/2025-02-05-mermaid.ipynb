{
 "cells": [
  {
   "cell_type": "markdown",
   "metadata": {},
   "source": [
    "---\n",
    "layout: post\n",
    "comments: True\n",
    "title: Mermaid | Displaying diagrams as images on a blog\n",
    "type: ccc\n",
    "courses: { csa: {week: 19} }\n",
    "---\n",
    "\n",
    "Problem: Mermaid works great in VSCode, but when site is deployed or built, mermaid code shows up as text, not image\n",
    "Idea: Convert this code into an image and display whenever site is deployed\n",
    "\n",
    "\n",
    "\n",
    "### 1 - Converting mermaid to an image\n",
    "A library exists to do this. A rudimentary python function can be made to do this. This one saves the image to a specific directory, in this case /assests/mermaid/"
   ]
  },
  {
   "cell_type": "code",
   "execution_count": null,
   "metadata": {},
   "outputs": [],
   "source": [
    "def convert_mermaid_to_image(mermaid_code):\n",
    "    ensure_directory_exists(mermaid_output_directory)\n",
    "    mermaid_hash = sha256(mermaid_code.encode()).hexdigest()\n",
    "    image_path = os.path.join(mermaid_output_directory, f\"{mermaid_hash}.png\")\n",
    "    \n",
    "    if not os.path.exists(image_path):\n",
    "        try:\n",
    "            process = subprocess.run([\n",
    "                \"mmdc\", \"-i\", \"-\", \"-o\", image_path, \"-s\", \"10\"\n",
    "            ], input=mermaid_code, text=True, check=True)\n",
    "        except subprocess.CalledProcessError as e:\n",
    "            print(f\"Error converting mermaid diagram: {e}\")\n",
    "            return None\n",
    "    return image_path"
   ]
  },
  {
   "cell_type": "markdown",
   "metadata": {},
   "source": [
    "New issue: we need to know what/when to run this one\n",
    "### 2 - Where to edit?\n",
    "Fortunately, convert_notebooks.py already exists and runs whenever the site is made. The following code checks each notebook for a cell beginning with \"~~~mermaid\", indicating mermaid code."
   ]
  },
  {
   "cell_type": "code",
   "execution_count": null,
   "metadata": {},
   "outputs": [],
   "source": [
    "for cell in notebook.cells:\n",
    "        if cell.cell_type == \"markdown\" and cell.source.startswith(\"~~~mermaid\"):\n",
    "            mermaid_code = cell.source.replace(\"~~~mermaid\", \"\").replace(\"~~~\", \"\").strip()\n",
    "            image_path = convert_mermaid_to_image(mermaid_code)"
   ]
  },
  {
   "cell_type": "markdown",
   "metadata": {},
   "source": [
    "### 3 - Displaying the image\n",
    "Ok. Now we have the image of the mermaid code saved, we just need a way to display it. We can't modify the notebook, since the mermaid code of that will need to be edited in the future. Thankfully, we have the MD files which we can modify. Easiest way is simply replacing the cell content with the path to the image, and letting the rest of the already existing convert functions to the rest of the job."
   ]
  },
  {
   "cell_type": "code",
   "execution_count": null,
   "metadata": {},
   "outputs": [],
   "source": [
    "if image_path:\n",
    "    cell.source = f\"![Mermaid Diagram](../../../../{image_path})\""
   ]
  },
  {
   "cell_type": "markdown",
   "metadata": {},
   "source": [
    "### 4 - Final Code\n",
    "Putting it all together, it looks like below (with the addition of a call to process_mermaid in the main convert function):"
   ]
  },
  {
   "cell_type": "code",
   "execution_count": null,
   "metadata": {},
   "outputs": [],
   "source": [
    "def ensure_directory_exists(path):\n",
    "    os.makedirs(os.path.dirname(path), exist_ok=True)\n",
    "\n",
    "def convert_mermaid_to_image(mermaid_code):\n",
    "    ensure_directory_exists(mermaid_output_directory)\n",
    "    mermaid_hash = sha256(mermaid_code.encode()).hexdigest()\n",
    "    image_path = os.path.join(mermaid_output_directory, f\"{mermaid_hash}.png\")\n",
    "    \n",
    "    if not os.path.exists(image_path):\n",
    "        try:\n",
    "            process = subprocess.run([\n",
    "                \"mmdc\", \"-i\", \"-\", \"-o\", image_path, \"-s\", \"10\"\n",
    "            ], input=mermaid_code, text=True, check=True)\n",
    "        except subprocess.CalledProcessError as e:\n",
    "            print(f\"Error converting mermaid diagram: {e}\")\n",
    "            return None\n",
    "    return image_path\n",
    "\n",
    "def process_mermaid_cells(notebook):\n",
    "    for cell in notebook.cells:\n",
    "        if cell.cell_type == \"markdown\" and cell.source.startswith(\"~~~mermaid\"):\n",
    "            mermaid_code = cell.source.replace(\"~~~mermaid\", \"\").replace(\"~~~\", \"\").strip()\n",
    "            image_path = convert_mermaid_to_image(mermaid_code)\n",
    "            if image_path:\n",
    "                cell.source = f\"![Mermaid Diagram](../../../../{image_path})\""
   ]
  },
  {
   "cell_type": "markdown",
   "metadata": {},
   "source": [
    "A flowchart is below. Created in mermaid of course."
   ]
  },
  {
   "cell_type": "markdown",
   "metadata": {},
   "source": [
    "~~~mermaid\n",
    "graph TD\n",
    "    subgraph Original\n",
    "        A[Notebook]\n",
    "        B[Extract front matter]\n",
    "        C[Reformat as MD file]\n",
    "        D[Put together MD file with front matter]\n",
    "    end\n",
    "\n",
    "    subgraph New\n",
    "        E[Search all cells for mermaid cells]\n",
    "        F[Extract mermaid code]\n",
    "        G[Convert to image]\n",
    "        H[Save image to /assets/mermaid]\n",
    "        I[Replace mermaid code in MD file with path to mermaid image]\n",
    "    end\n",
    "\n",
    "    A --> B\n",
    "    B --> C\n",
    "    C --> D\n",
    "\n",
    "    A --> E\n",
    "    E --> F\n",
    "    F --> G\n",
    "    G --> H\n",
    "    H --> I\n",
    "    C --> I\n",
    "    I --> D\n",
    "~~~"
   ]
  }
 ],
 "metadata": {
  "language_info": {
   "name": "python"
  }
 },
 "nbformat": 4,
 "nbformat_minor": 2
}
