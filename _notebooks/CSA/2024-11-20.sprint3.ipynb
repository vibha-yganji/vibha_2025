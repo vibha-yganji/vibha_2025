{
 "cells": [
  {
   "cell_type": "markdown",
   "metadata": {},
   "source": [
    "---\n",
    "layout: post\n",
    "title: Sprint 3\n",
    "permalink: /sprint_3\n",
    "---"
   ]
  },
  {
   "cell_type": "markdown",
   "metadata": {},
   "source": [
    "| **Assignment**                | **Points**    | **Grade** | **Evidence** |\n",
    "|-------------------------------|---------------|-----------|--------------|\n",
    "| Sprint 1-3 Review Ticket      | 3             |   2.7        | [Review Ticket (Sprint 1)](https://vibha-yganji.github.io/vibha_2025/sprint1), [Review Ticket (Sprint 2)](https://vibha-yganji.github.io/vibha_2025/https://vibha-yganji.github.io/vibha_2025/sprint2_blog  )         |\n",
    "| Sprint 3 Team Issue(s)/Plan   | 2             |    1.7       | [Planning Issue - Backend Kanban Board](https://github.com/Flying-Book/slack_transposer_backend/issues/2#issue-2598762468); [Planning Issue - Frontend Kanban Board](https://github.com/Flying-Book/slack_transposer_frontend/issues/)   |\n",
    "| Beginning-2-End Contribution  | 2            |   1.6 (need to commit more frequently)        | ![alt text](https://i.ibb.co/KNH1r3X/Image-11-20-24-at-7-18-AM.jpg   \"Title\") ![alt text](https://i.ibb.co/MZn3PxK/Image-11-20-24-at-7-22-AM.jpg \"Title\")            |\n",
    "| N@tM Team Presentation        | 2             |    1.78     |   ![alt text](https://i.ibb.co/xf9XnnV/Image-11-20-24-at-7-28-AM.jpg)           |\n",
    "| Live Review Indi Demo         | 1             |    0.8       |  Entirety of demo was done as a team            |\n",
    "| **Total**                     | 10            |  8.58         |              |\n"
   ]
  },
  {
   "cell_type": "markdown",
   "metadata": {
    "vscode": {
     "languageId": "plaintext"
    }
   },
   "source": [
    "| **Skill**                  | **Points**    | **Grade** | **Evidence** |\n",
    "|----------------------------|---------------|-----------|--------------|\n",
    "| Work Habits (Analytics)    | 1             |   0.9        |  ![alt text](https://i.ibb.co/GkCHKzM/Image-11-20-24-at-7-33-AM.jpg)  ![](https://i.ibb.co/XDKd3N7/Image-11-20-24-at-7-34-AM.jpg)          |\n",
    "| Evidence of Role in Team   | 1             |    0.8       |  (shown above)            | \n",
    "| Function / Purpose Design  | 1             |    0.9       |              | \n",
    "| Live Review                | 2             |    N/A        |              | \n",
    "| **Total**                  | 5             |           |              |"
   ]
  }
 ],
 "metadata": {
  "language_info": {
   "name": "python"
  }
 },
 "nbformat": 4,
 "nbformat_minor": 2
}
