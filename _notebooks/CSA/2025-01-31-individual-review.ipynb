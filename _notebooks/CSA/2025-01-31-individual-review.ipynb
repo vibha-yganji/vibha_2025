{
 "cells": [
  {
   "cell_type": "markdown",
   "metadata": {},
   "source": [
    "---\n",
    "layout: post\n",
    "title: PBL Review\n",
    "permalink: /pbl_review\n",
    "---"
   ]
  },
  {
   "cell_type": "markdown",
   "metadata": {},
   "source": [
    "| Activity | Image |\n",
    "|-------------------------------|---------------------------------------------------------------------------------------------------|\n",
    "| [GitHub Analytics for CSA_Coders_Combined_Frontend (which were eventually pulled into the portfolio)] | <img width=\"344\" alt=\"Image\" src=\"https://i.ibb.co/qMVxj2PR/Image-1-31-25-at-11-44-AM.jpg\" /> |\n",
    "| [GitHub Analytics for `spring_2025`] | <img width=\"344\" alt=\"Image\" src=\"https://i.ibb.co/7x5fy2x4/Image-1-31-25-at-11-48-AM.jpg\" /> |\n",
    "| [Personal Rundown](https://github.com/Flying-Book/slack_transposer_backend/issues/2#issue-2598762468) |  <img width=\"344\" alt=\"Image\" src=\"https://i.ibb.co/Nn3s4Wmy/Image-1-31-25-at-12-40-PM.jpg\" />  |\n",
    "| Login/Toolkit Usage | <img width=\"973\" alt=\"Image\" src=\"https://i.ibb.co/hFMhT6yq/Image-1-31-25-at-11-52-AM.jpg\"/> |\n",
    "| [PBL Contributions](https://github.com/vibha-yganji/vibha_2025/issues/12#issuecomment-2628327727) | **<img width=\"344\" alt=\"Image\" src=\"https://i.ibb.co/qMVxj2PR/Image-1-31-25-at-11-44-AM.jpg\" />** |\n"
   ]
  },
  {
   "cell_type": "markdown",
   "metadata": {},
   "source": [
    "| Activity                          | Image              | Description                                                                                                   |\n",
    "|-----------------------------------|--------------------|---------------------------------------------------------------------------------------------------------------|\n",
    "| Calendar Endpoint #1 (Editing Events)                    |   <img width=\"841\" alt=\"Image\" src=\"https://i.ibb.co/JwhyGQ2P/Image-1-31-25-at-12-24-PM.jpg\" />  <img width=\"841\" alt=\"Image\" src=\"https://i.ibb.co/0jZ5c244/Image-1-31-25-at-12-24-PM-1.jpg\" /> <img width=\"841\" alt=\"Image\" src=\"https://i.ibb.co/99GB7y3F/Image-1-31-25-at-12-25-PM.jpg\" />           | Allows users to modify existing calendar events, updating event details as needed. |\n",
    "| Calendar Endpoint #2 (Manual Addition of Events)                    |  <img width=\"841\" alt=\"Image\" src=\"https://i.ibb.co/JFjqQHsr/Image-1-31-25-at-12-19-PM.jpg\" /> <img width=\"841\" alt=\"Image\" src=\"https://i.ibb.co/HDH72gRy/Image-1-31-25-at-12-20-PM.jpg\" /> <img width=\"841\" alt=\"Image\" src=\"https://i.ibb.co/8nCMj9Fb/Image-1-31-25-at-12-20-PM.jpg\" />  | Enables users to manually create and add new events to the calendar with specified details. |\n",
    "| Calendar Endpoint #3 (Deletion of Events - Frontend + Backend endpoint Edits)        | <img width=\"841\" alt=\"Image\" src=\"https://i.ibb.co/jv91q4zn/Image-1-31-25-at-12-29-PM.jpg\" /> <img width=\"841\" alt=\"Image\" src=\"https://i.ibb.co/3Z06hn8/Image-1-31-25-at-12-30-PM.jpg\" /> | Provides functionality for deleting events from the calendar, including both frontend and backend modifications. |\n"
   ]
  },
  {
   "cell_type": "markdown",
   "metadata": {},
   "source": [
    "## Future Plans\n",
    "\n",
    "| Feature                            | Description                                                                 | Priority |\n",
    "|------------------------------------|-----------------------------------------------------------------------------|----------|\n",
    "| **Event Search Functionality**     | Implement a search bar to filter events by title or date.                   | Medium   |\n",
    "| **Event Reminder Feature**         | Add functionality to set reminders for events, with notifications.          | Low      |\n",
    "| **Calendar View Toggle**           | Allow users to toggle between day/week/month view of events.                | Medium   |\n",
    "| **Event Conflict Alert**           | Notify users if two events overlap or conflict in timing.                   | Low      |\n",
    "| **Bulk Import/Export Events**      | Enable users to import/export multiple events using CSV or other formats.  | Low      |\n",
    "| **User Permissions for Event Access** | Implement user roles to restrict who can add/edit/delete events.          | High     |\n"
   ]
  }
 ],
 "metadata": {
  "language_info": {
   "name": "python"
  }
 },
 "nbformat": 4,
 "nbformat_minor": 2
}
