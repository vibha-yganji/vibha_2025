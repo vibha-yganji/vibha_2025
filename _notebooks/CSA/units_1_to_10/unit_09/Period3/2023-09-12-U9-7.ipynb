{
 "cells": [
  {
   "cell_type": "raw",
   "metadata": {},
   "source": [
    "---\n",
    "layout: post\n",
    "title:  9.7 Object Superclass\n",
    "courses: { csse: {week: 1}, csp: {week: 1}, csa: {week: 1} }\n",
    "categories: [DevOps]\n",
    "permalink: /inheritance/object-superclass\n",
    "menu: nav/inheritance.html\n",
    "comments: true\n",
    "sticky_rank: 1\n",
    "---"
   ]
  },
  {
   "cell_type": "markdown",
   "metadata": {},
   "source": [
    "## Object Superclass"
   ]
  },
  {
   "cell_type": "markdown",
   "metadata": {},
   "source": [
    "Learning Targets: \n",
    "   * What is the *Object* class\n",
    "   * Why is the *Object* class important to remember"
   ]
  },
  {
   "cell_type": "markdown",
   "metadata": {},
   "source": [
    "***"
   ]
  },
  {
   "cell_type": "markdown",
   "metadata": {},
   "source": [
    "Every class and object created **without** the ```extends``` keyword will be implicitly extended from the **[Object Superclass](https://docs.oracle.com/javase/8/docs/api/java/lang/Object.html)**. This means it will inherit some basic methods. Some notable methods are:\n",
    "1. ```getClass()```\n",
    "2. ```toString()```\n",
    "3. ```equals()```"
   ]
  },
  {
   "cell_type": "markdown",
   "metadata": {},
   "source": [
    "### So What?\n",
    "Well its important to keep in mind when writing out your class. If you are planning to have a **method** in your class/object that **matches** the basic **Object**, then it **must** be a ```public override``` because all of the Object methods are public.\n",
    "* are some methods from Object such as **getClass()** that you **cannot** override."
   ]
  },
  {
   "cell_type": "code",
   "execution_count": null,
   "metadata": {
    "vscode": {
     "languageId": "java"
    }
   },
   "outputs": [],
   "source": [
    "// this will return an error\n",
    "class Shape {\n",
    "    String toString(){\n",
    "        return \"Shape\";\n",
    "    }\n",
    "}"
   ]
  },
  {
   "cell_type": "code",
   "execution_count": 2,
   "metadata": {
    "vscode": {
     "languageId": "java"
    }
   },
   "outputs": [],
   "source": [
    "// this will be fine\n",
    "class Shape{\n",
    "    @Override\n",
    "    public String toString(){\n",
    "        return \"Shape\";\n",
    "    }\n",
    "}"
   ]
  },
  {
   "cell_type": "markdown",
   "metadata": {},
   "source": [
    "## Popcorn Hacks\n",
    "Create an example where you execute an unchanged method from *Object*, then execute a different method from *Object* that you changed."
   ]
  },
  {
   "cell_type": "code",
   "execution_count": 1,
   "metadata": {
    "vscode": {
     "languageId": "java"
    }
   },
   "outputs": [
    {
     "name": "stdout",
     "output_type": "stream",
     "text": [
      "Unchanged method (toString): Vegetable: Carrot\n",
      "Changed method (equals): true\n",
      "Changed method (equals): false\n"
     ]
    }
   ],
   "source": [
    "class Vegetable {\n",
    "    private String name;\n",
    "\n",
    "    public Vegetable(String name) {\n",
    "        this.name = name;\n",
    "    }\n",
    "\n",
    "    // Unchanged method from Object\n",
    "    @Override\n",
    "    public String toString() {\n",
    "        return \"Vegetable: \" + name;\n",
    "    }\n",
    "\n",
    "    // Changed method from Object\n",
    "    @Override\n",
    "    public boolean equals(Object obj) {\n",
    "        if (this == obj) return true; // Check for reference equality\n",
    "        if (obj == null || getClass() != obj.getClass()) return false; // Type check\n",
    "\n",
    "        Vegetable vegetable = (Vegetable) obj;\n",
    "        return name.equals(vegetable.name); // Compare names for equality\n",
    "    }\n",
    "\n",
    "    public static void main(String[] args) {\n",
    "        Vegetable carrot = new Vegetable(\"Carrot\");\n",
    "        Vegetable anotherCarrot = new Vegetable(\"Carrot\");\n",
    "        Vegetable potato = new Vegetable(\"Potato\");\n",
    "\n",
    "        // Execute unchanged method\n",
    "        System.out.println(\"Unchanged method (toString): \" + carrot.toString());\n",
    "\n",
    "        // Execute changed method\n",
    "        System.out.println(\"Changed method (equals): \" + carrot.equals(anotherCarrot)); // true\n",
    "        System.out.println(\"Changed method (equals): \" + carrot.equals(potato)); // false\n",
    "    }\n",
    "}\n",
    "\n",
    "// Create an instance of Vegetable and call main method\n",
    "Vegetable.main(null);\n"
   ]
  }
 ],
 "metadata": {
  "kernelspec": {
   "display_name": "Java",
   "language": "java",
   "name": "java"
  },
  "language_info": {
   "codemirror_mode": "java",
   "file_extension": ".jshell",
   "mimetype": "text/x-java-source",
   "name": "Java",
   "pygments_lexer": "java",
   "version": "17.0.11+7-LTS-207"
  }
 },
 "nbformat": 4,
 "nbformat_minor": 2
}
