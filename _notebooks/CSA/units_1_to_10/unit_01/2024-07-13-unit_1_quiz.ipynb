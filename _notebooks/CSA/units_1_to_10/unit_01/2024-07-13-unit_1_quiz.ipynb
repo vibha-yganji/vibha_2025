{
 "cells": [
  {
   "cell_type": "raw",
   "metadata": {
    "vscode": {
     "languageId": "raw"
    }
   },
   "source": [
    "---\n",
    "layout: post\n",
    "title: Quiz Questions for APCSA Unit 1\n",
    "description: Questions and Code Cells for the Quiz on Unit 1\n",
    "categories: [CSA-Quiz]\n",
    "permalink: /csa/units/quiz1\n",
    "menu: nav/CSA_Units/csa_unit1.html\n",
    "author: Soham Kamat & Aniket Chakradeo\n",
    "---"
   ]
  },
  {
   "cell_type": "markdown",
   "metadata": {},
   "source": [
    "## Unit 1: Primitive Types"
   ]
  },
  {
   "cell_type": "markdown",
   "metadata": {},
   "source": [
    "### Question 1\n",
    "\n",
    "Which of the following is a valid declaration of a variable of type int in Java?<br>\n",
    "a) int 123variable;<br>\n",
    "b) int variable123;<br>\n",
    "c) int variable#123;<br>\n",
    "d) int variable 123;\n",
    "\n",
    "Answer: b) int variable123;\n"
   ]
  },
  {
   "cell_type": "code",
   "execution_count": 1,
   "metadata": {
    "vscode": {
     "languageId": "java"
    }
   },
   "outputs": [
    {
     "name": "stdout",
     "output_type": "stream",
     "text": [
      "123\n",
      "123\n"
     ]
    }
   ],
   "source": [
    "// Q1 Hack: Define variables according to Java naming conventions.\n",
    "// For instance, is it snake_case, camelCase, or PascalCase?\n",
    "\n",
    "int variable123 = 123;\n",
    "System.out.println(variable123);\n",
    "\n",
    "int myVariable123 = 123;\n",
    "System.out.println(myVariable123);\n"
   ]
  },
  {
   "cell_type": "markdown",
   "metadata": {},
   "source": [
    "### Question 2\n",
    "\n",
    "What is the value of the following expression in Java: 5 / 2?<br>\n",
    "a) 2.5<br>\n",
    "b) 3<br>\n",
    "c) 2<br>\n",
    "d) 2.0\n",
    "\n",
    "Answer: c) 2\n"
   ]
  },
  {
   "cell_type": "code",
   "execution_count": 2,
   "metadata": {
    "vscode": {
     "languageId": "java"
    }
   },
   "outputs": [
    {
     "name": "stdout",
     "output_type": "stream",
     "text": [
      "Integer Division: 9 / 12 = 0\n",
      "Floating Point Division: 9 / 12 = 0.75\n"
     ]
    }
   ],
   "source": [
    "// Q2.1 Hack: Show in code difference between integer and floating point division.\n",
    "// Q2.2 Hack: Show in code the differnt number types in Java and how they behave.\n",
    "// Behave means definition and assignment.\n",
    "\n",
    "int num1 = 9;\n",
    "int num2 = 12;\n",
    "int intResult = num1 / num2; \n",
    "System.out.println(\"Integer Division: \" + num1 + \" / \" + num2 + \" = \" + intResult);\n",
    "\n",
    "// Floating-point division\n",
    "double doubleResult = (double) num1 / num2;\n",
    "System.out.println(\"Floating Point Division: \" + num1 + \" / \" + num2 + \" = \" + doubleResult);"
   ]
  },
  {
   "cell_type": "markdown",
   "metadata": {
    "vscode": {
     "languageId": "raw"
    }
   },
   "source": [
    "### Question 3\n",
    "\n",
    "Which primitive type is used to represent a single character in Java?<br>\n",
    "a) char<br>\n",
    "b) String<br>\n",
    "c) int<br>\n",
    "d) byte\n",
    "\n",
    "Answer: a) char"
   ]
  },
  {
   "cell_type": "code",
   "execution_count": 4,
   "metadata": {
    "vscode": {
     "languageId": "java"
    }
   },
   "outputs": [
    {
     "name": "stdout",
     "output_type": "stream",
     "text": [
      "Character: X\n",
      "Next Character: Y\n",
      "Is Java fun? true\n",
      "Is fish tasty? false\n",
      "Let's keep coding in Java!\n"
     ]
    }
   ],
   "source": [
    "// Q3.1 Hack: Show in code all the the non-number Java primitive data types and how they behave.\n",
    "// Q3.2 Hack: Show in code the String data type and how it behaves.\n",
    "\n",
    "char character = 'X';\n",
    "        System.out.println(\"Character: \" + character); // Output: A\n",
    "\n",
    "        // Demonstrating char behavior\n",
    "        char nextLetter = (char) (character + 1); // incrementing char\n",
    "        System.out.println(\"Next Character: \" + nextLetter); // Output: B\n",
    "\n",
    "        // Boolean data type\n",
    "        boolean isJavaFun = true; // represents true/false values\n",
    "        System.out.println(\"Is Java fun? \" + isJavaFun); // Output: true\n",
    "\n",
    "        // Demonstrating boolean behavior\n",
    "        boolean isFishTasty = false;\n",
    "        System.out.println(\"Is fish tasty? \" + isFishTasty); // Output: false\n",
    "\n",
    "        // Using boolean in a conditional\n",
    "        if (isJavaFun) {\n",
    "            System.out.println(\"Let's keep coding in Java!\");\n",
    "        }"
   ]
  },
  {
   "cell_type": "markdown",
   "metadata": {},
   "source": [
    "### Question 4\n",
    "\n",
    "Answer the following questions based on the code cell:\n",
    "* a) What kind of types are person1 and person2? \n",
    "* Answer: \n",
    "* b) Do person1 and person3 point to the same value in memory?\n",
    "* Answer:\n",
    "* c) Is the integer \"number\" stored in the heap or in the stack?\n",
    "* Answer:\n",
    "* d) Is the value that \"person1\" points to stored in the heap or in the stack?\n",
    "* Answer: "
   ]
  },
  {
   "cell_type": "markdown",
   "metadata": {},
   "source": [
    "### a) What kind of types are `person1` and `person2`?  \n",
    "**Answer:** `person1` and `person2` are reference types pointing to `Person` objects.\n",
    "\n",
    "### b) Do `person1` and `person3` point to the same value in memory?  \n",
    "**Answer:** Yes, `person1` and `person3` point to the same value in memory.\n",
    "\n",
    "### c) Is the integer `number` stored in the heap or in the stack?  \n",
    "**Answer:** The integer `number` is stored in the stack.\n",
    "\n",
    "### d) Is the value that `person1` points to stored in the heap or in the stack?  \n",
    "**Answer:** The value that `person1` points to is stored in the heap.\n"
   ]
  },
  {
   "cell_type": "code",
   "execution_count": null,
   "metadata": {
    "vscode": {
     "languageId": "java"
    }
   },
   "outputs": [],
   "source": [
    "public class Person {\n",
    "    String name;\n",
    "    int age;\n",
    "    int height;\n",
    "    String job;\n",
    "\n",
    "    public Person(String name, int age, int height, String job) {\n",
    "        this.name = name;\n",
    "        this.age = age;\n",
    "        this.height = height;\n",
    "        this.job = job;\n",
    "    }\n",
    "}\n",
    "\n",
    "public static void main(String[] args) {\n",
    "    Person person1 = new Person(\"Carl\", 25, 165, \"Construction Worker\");\n",
    "    Person person2 = new Person(\"Adam\", 29, 160, \"Truck Driver\");\n",
    "    Person person3 = person1;\n",
    "    int number = 16;\n",
    "    System.out.println(number);\n",
    "}\n",
    "main(null); // This is required in Jupiter Notebook to run the main method."
   ]
  },
  {
   "cell_type": "markdown",
   "metadata": {},
   "source": [
    "### Question 5 \n",
    "\n",
    "(a) Define primitive types and reference types in Java. The application is for banking, where you need to represent customer information.\n",
    "\n",
    "(b) Add comments for primitive types and reference types. In terms of memory allocation, discuss concepts like instance, stack, and heap where it adds value.\n",
    "\n",
    "(c) To assist in requirements, here are some required elements:\n",
    "- Create multiple customers from the `public class Account`.\n",
    "- Consider key class variables that a Bank may require: `name`, `balance`, `accountNumber`.\n",
    "- Create a two argument constructor using `name` and `balance`.\n",
    "- Consider in constructor how you will create a unique account number using `static int lastAccountNumber`\n",
    "- Define a method `calculateInterest` that works with getting and setting `double balance` using `private static double interestRate`."
   ]
  },
  {
   "cell_type": "markdown",
   "metadata": {},
   "source": [
    "### (a) Primitive Types vs. Reference Types in Java\n",
    "\n",
    "Primitive types are predefined data types (like `int` and `double`) that store simple values, while reference types (like `String`) store references to objects. In a banking application, `double balance` and `int accountNumber` are primitive types, whereas `String name` is a reference type.\n",
    "\n",
    "### (b) Memory Allocation Concepts\n",
    "\n",
    "**Stack** memory stores primitive types and reference variable addresses, while **Heap** memory stores dynamically allocated objects. Each object instance has its data stored in the heap, and static variables like `lastAccountNumber` are stored in the method area.\n"
   ]
  },
  {
   "cell_type": "code",
   "execution_count": 6,
   "metadata": {
    "vscode": {
     "languageId": "java"
    }
   },
   "outputs": [],
   "source": [
    "public class Account {\n",
    "    private static int lastAccountNumber = 0;\n",
    "    private String name;\n",
    "    private double balance;\n",
    "    private int accountNumber;\n",
    "    private static double interestRate = 0.05;\n",
    "\n",
    "    public Account(String name, double balance) {\n",
    "        this.name = name;\n",
    "        this.balance = balance;\n",
    "        this.accountNumber = ++lastAccountNumber;\n",
    "    }\n",
    "\n",
    "    public double getBalance() { return balance; }\n",
    "    public void setBalance(double balance) { this.balance = balance; }\n",
    "    public double calculateInterest() { return balance * interestRate; }\n",
    "    public void displayAccountDetails() {\n",
    "        System.out.println(\"Account Number: \" + accountNumber);\n",
    "        System.out.println(\"Customer Name: \" + name);\n",
    "        System.out.println(\"Account Balance: $\" + balance);\n",
    "    }\n",
    "}\n",
    "\n"
   ]
  }
 ],
 "metadata": {
  "kernelspec": {
   "display_name": "Java",
   "language": "java",
   "name": "java"
  },
  "language_info": {
   "codemirror_mode": "java",
   "file_extension": ".jshell",
   "mimetype": "text/x-java-source",
   "name": "Java",
   "pygments_lexer": "java",
   "version": "17.0.11+7-LTS-207"
  }
 },
 "nbformat": 4,
 "nbformat_minor": 2
}
