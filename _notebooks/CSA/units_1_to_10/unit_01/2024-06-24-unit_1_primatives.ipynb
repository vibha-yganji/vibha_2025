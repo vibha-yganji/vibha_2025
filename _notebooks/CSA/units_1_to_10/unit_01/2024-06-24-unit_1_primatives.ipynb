{
 "cells": [
  {
   "cell_type": "raw",
   "metadata": {
    "vscode": {
     "languageId": "raw"
    }
   },
   "source": [
    "---\n",
    "layout: post\n",
    "toc: true\n",
    "title: Unit 1 - Primitive Types\n",
    "categories: [CSA-Prep]\n",
    "menu: nav/CSA_Units/csa_unit1.html\n",
    "authors: Aniket Chakradeo, Soham Kamat\n",
    "permalink: /csa/unit1/primitives\n",
    "---"
   ]
  },
  {
   "cell_type": "markdown",
   "metadata": {},
   "source": [
    "## Primitive Data Types\n",
    "A primitive data type specifies the **size and type of information**. Primitive types are the simplest type of variables in Java. They simply store a small amount of data, according to the type. They are not associated with a class.\n",
    "\n",
    "### The 3 Primitive Data Types for College Board\n",
    "\n",
    "There are eight primitive data types in Java, but only these 3 are used in AP CSA:\n",
    "\n",
    "| Data Type | Description |\n",
    "|-|-|\n",
    "| int | Stores whole numbers from -2,147,483,648 to 2,147,483,647 |\n",
    "| double | Stores decimal numbers. Sufficient for storing 15 decimal digits |\n",
    "| boolean | Stores true or false values |\n",
    "\n",
    "To declare a variable, you write:\n",
    "`Type VariableName = Value;`\n",
    "\n",
    "For example:\n",
    "`int count = 0;`\n",
    "\n",
    "### Variable Terms and Conventions\n",
    "\n",
    "These are important items to remember with regards to Java and the College Board.\n",
    "\n",
    "- A `variable name` is often referred to as the `variable identifier` in Java.\n",
    "- A `variable name` follows camel case conventions in Java (e.g., firstName).\n",
    "- A `class name`, which is a Data Type, follows Pascal case (e.g., BankAccount)."
   ]
  },
  {
   "cell_type": "markdown",
   "metadata": {},
   "source": [
    "## The 8 Primitive Data Types\n",
    "\n",
    "Here is the complete list of primitive types in Java:\n",
    "\n",
    "- **byte**: An 8-bit signed two's complement integer.\n",
    "- **short**: A 16-bit signed two's complement integer.\n",
    "- **int**: A 32-bit signed two's complement integer.\n",
    "- **long**: A 64-bit signed two's complement integer.\n",
    "- **float**: A single-precision 32-bit IEEE 754 floating point.\n",
    "- **double**: A double-precision 64-bit IEEE 754 floating point.\n",
    "- **boolean**: Stores either `true` or `false`.\n",
    "- **char**: Stores a single 16-bit Unicode character."
   ]
  },
  {
   "cell_type": "markdown",
   "metadata": {},
   "source": [
    "### Popcorn Hack: Greatest Value Terms\n",
    "\n",
    "`Primitive Data types have constraints` The program shows the constraints of Integers and Doubles.  Define the following terms...\n",
    "\n",
    "- **Constraints**: In the context of primitive data types, constraints refer to the limitations and boundaries within which these types can operate. These constraints include the range of values that a data type can represent, the precision of floating-point numbers, and the amount of memory allocated for storing these values. For example, an `int` in many programming languages might be constrained to represent values from -2,147,483,648 to 2,147,483,647.\n",
    "\n",
    "- **Overflow**: Overflow occurs when a calculation produces a result that exceeds the maximum limit of the data type. For example, if you try to store a number larger than the maximum value an `int` can hold (e.g., adding two large integers that exceed this limit), the result may \"wrap around\" and produce an incorrect value or result in unexpected behavior. In many languages, this can lead to errors or undefined behavior.\n",
    "\n",
    "- **Underflow**: Underflow happens when a calculation produces a result smaller than the minimum value that the data type can represent. For floating-point numbers, this might mean that a number is too close to zero to be represented accurately, leading to a loss of precision. For integers, underflow occurs when a number goes below the minimum representable value, causing it to \"wrap around\" to the maximum representable value of the data type (similar to overflow but in the negative direction).\n"
   ]
  },
  {
   "cell_type": "code",
   "execution_count": 2,
   "metadata": {
    "vscode": {
     "languageId": "java"
    }
   },
   "outputs": [
    {
     "name": "stdout",
     "output_type": "stream",
     "text": [
      "Max Integer: 2147483647\n",
      "Min Integer: -2147483648\n",
      "Max Double: 1.7976931348623157E308\n",
      "Min Double: 4.9E-324\n",
      "Integer Max + 1, Overflow: -2147483648\n",
      "Integer Min - 1, Underflow: 2147483647\n",
      "Integer Max + Min: -1\n"
     ]
    }
   ],
   "source": [
    "public class GreatestValue {\n",
    "    public static void main(String[] args) {\n",
    "        System.out.println(\"Max Integer: \" + Integer.MAX_VALUE);\n",
    "        System.out.println(\"Min Integer: \" + Integer.MIN_VALUE);\n",
    "        System.out.println(\"Max Double: \" + Double.MAX_VALUE);\n",
    "        System.out.println(\"Min Double: \" + Double.MIN_VALUE);\n",
    "\n",
    "        // Integer Show Overflow\n",
    "        int i = Integer.MAX_VALUE;\n",
    "        i++;\n",
    "        System.out.println(\"Integer Max + 1, Overflow: \" + i);\n",
    "\n",
    "        // Integer Show Underflow\n",
    "        int j = Integer.MIN_VALUE;\n",
    "        j--;\n",
    "        System.out.println(\"Integer Min - 1, Underflow: \" + j);\n",
    "\n",
    "        // Integer Max + Min\n",
    "        int k = Integer.MAX_VALUE + Integer.MIN_VALUE;\n",
    "        System.out.println(\"Integer Max + Min: \" + k);\n",
    "\n",
    "    }\n",
    "}\n",
    "GreatestValue.main(null);"
   ]
  },
  {
   "cell_type": "markdown",
   "metadata": {},
   "source": [
    "### Popcorn Hack: Fill in Data Type \n",
    "The code below is broken....\n",
    "\n",
    "- Fill in the blank, replace the underbars with the correct type.\n",
    "- Output the contents to the Jupyter Terminal"
   ]
  },
  {
   "cell_type": "code",
   "execution_count": 4,
   "metadata": {
    "vscode": {
     "languageId": "java"
    }
   },
   "outputs": [
    {
     "name": "stdout",
     "output_type": "stream",
     "text": [
      "0\n",
      "3.14159\n",
      "true\n",
      "A\n",
      "Yes\n"
     ]
    }
   ],
   "source": [
    "int zero = 0; // Whole number\n",
    "double pi = 3.14159; // Decimal values. Floating point numbers.\n",
    "boolean iAmTakingCSA = true; // Stores a true or false binary value\n",
    "char myProjectedGrad = 'A'; // Single character\n",
    "String iLoveCodeCodeCoding = \"Yes\"; // String of characters\n",
    "System.out.println(zero);\n",
    "System.out.println(pi);\n",
    "System.out.println(iAmTakingCSA);\n",
    "System.out.println(myProjectedGrad);\n",
    "System.out.println(iLoveCodeCodeCoding);"
   ]
  },
  {
   "cell_type": "code",
   "execution_count": null,
   "metadata": {
    "vscode": {
     "languageId": "java"
    }
   },
   "outputs": [],
   "source": []
  }
 ],
 "metadata": {
  "kernelspec": {
   "display_name": "Java",
   "language": "java",
   "name": "java"
  },
  "language_info": {
   "codemirror_mode": "java",
   "file_extension": ".jshell",
   "mimetype": "text/x-java-source",
   "name": "Java",
   "pygments_lexer": "java",
   "version": "17.0.11+7-LTS-207"
  }
 },
 "nbformat": 4,
 "nbformat_minor": 2
}
