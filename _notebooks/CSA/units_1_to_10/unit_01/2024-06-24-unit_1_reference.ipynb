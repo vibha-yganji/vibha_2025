{
 "cells": [
  {
   "cell_type": "raw",
   "metadata": {
    "vscode": {
     "languageId": "raw"
    }
   },
   "source": [
    "---\n",
    "layout: post\n",
    "toc: true\n",
    "title: Unit 1 - Reference Types\n",
    "description: An overview of Reference Types\n",
    "menu: nav/CSA_Units/csa_unit1.html\n",
    "authors: Aniket Chakradeo, Soham Kamat\n",
    "permalink: /csa/unit1/reference\n",
    "---"
   ]
  },
  {
   "cell_type": "markdown",
   "metadata": {},
   "source": [
    "## Refrence Types\n",
    "\n",
    "Reference types in Java include classes, arrays, and interfaces. Unlike primitive types, reference types store addresses (references) to objects rather than the objects themselves.\n",
    "\n",
    "### Classes\n",
    "- Create complex data structures by grouping variables and methods.\n",
    "\n",
    "Example:\n",
    "```java\n",
    "class Person {\n",
    "    String name;\n",
    "    int age;\n",
    "}\n",
    "Person person = new Person(); // `person` reference in stack, `Person` object in heap\n",
    "```\n",
    "### Arrays\n",
    "- Collections of variables of the same type.\n",
    "\n",
    "Example:\n",
    "```java\n",
    "int[] numbers = new int[5]; // `numbers` reference in stack, array in heap\n",
    "```\n",
    "\n",
    "### Popcorn Hack"
   ]
  },
  {
   "cell_type": "code",
   "execution_count": 1,
   "metadata": {},
   "outputs": [
    {
     "name": "stdout",
     "output_type": "stream",
     "text": [
      "Hello, World!\n",
      "[1, 2, 3, 4, 5]\n"
     ]
    }
   ],
   "source": [
    "public class Main {\n",
    "    public static void main(String[] args) {\n",
    "        // Create a reference type variable of type String\n",
    "        String myString = \"Hello, World!\";\n",
    "        \n",
    "        // Create a reference type variable of type Array\n",
    "        int[] myArray = new int[] {1, 2, 3, 4, 5};\n",
    "\n",
    "        // Print the values\n",
    "        System.out.println(myString);\n",
    "\n",
    "        // Print the array manually\n",
    "        System.out.print(\"[\");\n",
    "        for (int i = 0; i < myArray.length; i++) {\n",
    "            System.out.print(myArray[i]);\n",
    "            if (i < myArray.length - 1) {\n",
    "                System.out.print(\", \");\n",
    "            }\n",
    "        }\n",
    "        System.out.println(\"]\");\n",
    "    }\n",
    "}\n",
    "\n",
    "Main.main(null);\n"
   ]
  },
  {
   "cell_type": "code",
   "execution_count": null,
   "metadata": {},
   "outputs": [],
   "source": []
  }
 ],
 "metadata": {
  "kernelspec": {
   "display_name": "Java",
   "language": "java",
   "name": "java"
  },
  "language_info": {
   "codemirror_mode": "java",
   "file_extension": ".jshell",
   "mimetype": "text/x-java-source",
   "name": "java",
   "pygments_lexer": "java",
   "version": "19+36-2238"
  }
 },
 "nbformat": 4,
 "nbformat_minor": 2
}
