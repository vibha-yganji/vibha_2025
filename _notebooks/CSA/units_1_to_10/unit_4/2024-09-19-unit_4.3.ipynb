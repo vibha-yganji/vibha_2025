{
 "cells": [
  {
   "cell_type": "markdown",
   "metadata": {},
   "source": [
    "---\n",
    "layout: post\n",
    "type: collab\n",
    "title: Unit 4.3 - String Iteration\n",
    "description: Unit 4 Team Teach\n",
    "comments: true\n",
    "permalink: /csa/unit4-p1/unit4-3\n",
    "menu: nav/CSA_Units/csa_unit4_p1.html\n",
    "author: hanlun, saaras, arthur, miheer, eshaan, beijan\n",
    "---"
   ]
  },
  {
   "cell_type": "markdown",
   "metadata": {},
   "source": [
    "## 4.3 String Iteration\n",
    "simple for loop to iterate through every character using index with `charAt()`:"
   ]
  },
  {
   "cell_type": "code",
   "execution_count": null,
   "metadata": {
    "vscode": {
     "languageId": "java"
    }
   },
   "outputs": [],
   "source": [
    "String word = \"hello\";\n",
    "for (int i = 0; i < word.length(); i++) {\n",
    "    System.out.println(word.charAt(i));\n",
    "}"
   ]
  },
  {
   "cell_type": "markdown",
   "metadata": {},
   "source": [
    "in order to use an enhanced for loop, a character array is needed. <br>\n",
    "`toCharArray()` can help accomplish this. <br>\n",
    "example of iteration with an enhanced for loop:"
   ]
  },
  {
   "cell_type": "code",
   "execution_count": null,
   "metadata": {
    "vscode": {
     "languageId": "java"
    }
   },
   "outputs": [],
   "source": [
    "String word = \"hello\";\n",
    "for (char c : word.toCharArray()) {\n",
    "    System.out.println(c);\n",
    "}"
   ]
  },
  {
   "cell_type": "markdown",
   "metadata": {},
   "source": [
    "### Popcorn Hack:\n",
    "Iterate through the characters a string with a `while` loop"
   ]
  },
  {
   "cell_type": "code",
   "execution_count": 1,
   "metadata": {
    "vscode": {
     "languageId": "java"
    }
   },
   "outputs": [
    {
     "name": "stdout",
     "output_type": "stream",
     "text": [
      "h\n",
      "e\n",
      "l\n",
      "l\n",
      "o\n"
     ]
    }
   ],
   "source": [
    "String words = \"hello\";\n",
    "int i = 0;\n",
    "while (i < words.length()) {\n",
    "    char c = words.charAt(i);\n",
    "    System.out.println(c);\n",
    "    i++;\n",
    "}\n"
   ]
  },
  {
   "cell_type": "markdown",
   "metadata": {},
   "source": [
    "### What is a substring?\n",
    "- a substring is a subset of the main string\n",
    "- the substring(a,b) method creates a substring with the characters of the original string with indices of a to b.\n",
    "- string.length() returns the length of the string\n",
    "- string1.equals(string2) determines if the two strings have the same characters"
   ]
  },
  {
   "cell_type": "code",
   "execution_count": null,
   "metadata": {
    "vscode": {
     "languageId": "java"
    }
   },
   "outputs": [],
   "source": [
    "String word = \"sunflower\";\n",
    "String sub = \"low\";\n",
    "boolean found = false;\n",
    "for (int i = 0; i < word.length(); i++) {\n",
    "    String portion = word.substring(i, i+sub.length());\n",
    "    if (portion.equals(sub)){\n",
    "        found = true;\n",
    "    }\n",
    "}\n",
    "\n",
    "System.out.println(\"is \" + )"
   ]
  },
  {
   "cell_type": "markdown",
   "metadata": {},
   "source": [
    "### Iterating through words\n",
    "use `split()` to split a string into an array.<br>\n",
    "then we can iterate through the array to access each individual word"
   ]
  },
  {
   "cell_type": "code",
   "execution_count": null,
   "metadata": {
    "vscode": {
     "languageId": "java"
    }
   },
   "outputs": [],
   "source": [
    "String phrase = \"this is a string\";\n",
    "String[] words = phrase.split(\" \");\n",
    "for (String word : words) {\n",
    "    System.out.println(word);\n",
    "}"
   ]
  },
  {
   "cell_type": "markdown",
   "metadata": {},
   "source": [
    "### Homework Hack!\n",
    "\n",
    "code a caesar cipher that will encrypt any string with any key provided. <br>\n",
    "your code should go into the `encrypt()` method, and should successfully pass the test cases provided<br>\n",
    "as a bonus, try to use StringBuilder"
   ]
  },
  {
   "cell_type": "code",
   "execution_count": 1,
   "metadata": {
    "vscode": {
     "languageId": "java"
    }
   },
   "outputs": [
    {
     "name": "stdout",
     "output_type": "stream",
     "text": [
      "test 1: khoor zruog\n",
      "test 2: klmnopq\n",
      "test 3: hello world\n"
     ]
    }
   ],
   "source": [
    "public class CaesarCipher {\n",
    "    private int key;\n",
    "    private String phrase;\n",
    "\n",
    "    public CaesarCipher(int key, String phrase) {\n",
    "        this.key = key;\n",
    "        this.phrase = phrase;\n",
    "    }\n",
    "\n",
    "    public String encrypt() {\n",
    "        StringBuilder encrypted = new StringBuilder();\n",
    "\n",
    "        for (char ch : phrase.toCharArray()) {\n",
    "            if (Character.isLetter(ch)) {\n",
    "                char base = Character.isLowerCase(ch) ? 'a' : 'A';\n",
    "                ch = (char) ((ch - base + key) % 26 + base);\n",
    "            }\n",
    "            encrypted.append(ch);\n",
    "        }\n",
    "\n",
    "        return encrypted.toString();\n",
    "    }\n",
    "}\n",
    "\n",
    "// Test cases\n",
    "CaesarCipher test1 = new CaesarCipher(3, \"hello world\");\n",
    "System.out.println(\"test 1: \" + test1.encrypt()); // Expected: khoor zruog\n",
    "\n",
    "CaesarCipher test2 = new CaesarCipher(10, \"abcdefg\");\n",
    "System.out.println(\"test 2: \" + test2.encrypt()); // Expected: lmnopqr\n",
    "\n",
    "CaesarCipher test3 = new CaesarCipher(-3, \"khoor zruog\");\n",
    "System.out.println(\"test 3: \" + test3.encrypt()); // Expected: hello world"
   ]
  }
 ],
 "metadata": {
  "kernelspec": {
   "display_name": "Java",
   "language": "java",
   "name": "java"
  },
  "language_info": {
   "codemirror_mode": "java",
   "file_extension": ".jshell",
   "mimetype": "text/x-java-source",
   "name": "Java",
   "pygments_lexer": "java",
   "version": "17.0.11+7-LTS-207"
  }
 },
 "nbformat": 4,
 "nbformat_minor": 2
}
