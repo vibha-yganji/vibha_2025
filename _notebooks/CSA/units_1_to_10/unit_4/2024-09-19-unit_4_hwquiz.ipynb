{
 "cells": [
  {
   "cell_type": "markdown",
   "metadata": {},
   "source": [
    "---\n",
    "layout: post\n",
    "type: collab\n",
    "title: Unit 4 - HW Quiz\n",
    "description: Unit 4 Team Teach HW QUIZ\n",
    "comments: true\n",
    "permalink: /csa/unit4-p1/unit4-hwquiz\n",
    "menu: nav/CSA_Units/csa_unit4_p1.html\n",
    "author: hanlun, saaras, arthur, miheer, eshaan, beijan\n",
    "---"
   ]
  },
  {
   "cell_type": "markdown",
   "metadata": {},
   "source": [
    "## Unit 4 - Iteration:\n",
    "- This is the homework quiz for unit 4, iterations\n",
    "- 4 multiple choice questions\n",
    "- 2 programming hacks\n",
    "- 1 bonus programming hack (required to get above 0.9)"
   ]
  },
  {
   "cell_type": "markdown",
   "metadata": {},
   "source": [
    "### Question 1:\n",
    "What does the following code print?   \n",
    "\n",
    "A. 5 6 7 8 9   \n",
    "\n",
    "B. 4 5 6 7 8 9 10 11 12   \n",
    "\n",
    "C. 3 5 7 9 11   \n",
    "\n",
    "D. 3 4 5 6 7 8 9 10 11 12   \n",
    "\n",
    "<details>\n",
    "<summary>Click to reveal answer:</summary> \n",
    "  D\n",
    "</details>\n",
    "\n",
    "Explain your answer. (explanation is graded not answer)"
   ]
  },
  {
   "cell_type": "code",
   "execution_count": null,
   "metadata": {
    "vscode": {
     "languageId": "java"
    }
   },
   "outputs": [],
   "source": [
    "for (int i = 3; i <= 12; i++) {\n",
    "   System.out.print(i + \" \");\n",
    "}"
   ]
  },
  {
   "cell_type": "markdown",
   "metadata": {},
   "source": [
    "The code would print (D) as it would iterate from 3 to 12 and print each of the values from 3 to 12. "
   ]
  },
  {
   "cell_type": "markdown",
   "metadata": {},
   "source": [
    "### Bonus:\n",
    "- Explain the difference between using a variable like i inside a for loop, vs. using a variable that exists in the code itself for a while loop"
   ]
  },
  {
   "cell_type": "markdown",
   "metadata": {},
   "source": [
    "**Bonus**: The difference is that using a variable like i inside a for loop is that the variable is initialized in the for loop while the variable for a while loop is initialized prior to the start of the while loop."
   ]
  },
  {
   "cell_type": "markdown",
   "metadata": {},
   "source": [
    "### Question 2:\n",
    "How many times does the following method print a \"*\" ?\n",
    "\n",
    "A. 9\n",
    "\n",
    "B. 7\n",
    "\n",
    "C. 8\n",
    "\n",
    "D. 6\n",
    "\n",
    "<details>\n",
    "<summary>Click to reveal answer:</summary> \n",
    "  C\n",
    "</details>\n",
    "\n",
    "Explain your answer. (explanation is graded not answer)"
   ]
  },
  {
   "cell_type": "code",
   "execution_count": null,
   "metadata": {
    "vscode": {
     "languageId": "java"
    }
   },
   "outputs": [],
   "source": [
    "for (int i = 3; i < 11; i++) {\n",
    "   System.out.print(\"*\");\n",
    "}"
   ]
  },
  {
   "cell_type": "markdown",
   "metadata": {},
   "source": [
    "It would print \"*\" 8 times as the loop iterates (11-3) = 8 times."
   ]
  },
  {
   "cell_type": "markdown",
   "metadata": {},
   "source": [
    "### Question 3:\n",
    "What does the following code print?\n",
    "\n",
    "A. -4 -3 -2 -1 0\n",
    "\n",
    "B. -5 -4 -3 -2 -1\n",
    "\n",
    "C. 5 4 3 2 1\n",
    "\n",
    "<details>\n",
    "<summary>Click to reveal answer:</summary> \n",
    "  A\n",
    "</details>\n",
    "\n",
    "Explain your answer. (explanation is graded not answer)"
   ]
  },
  {
   "cell_type": "code",
   "execution_count": null,
   "metadata": {
    "vscode": {
     "languageId": "java"
    }
   },
   "outputs": [],
   "source": [
    "int x = -5;\n",
    "while (x < 0)\n",
    "{\n",
    "   x++;\n",
    "   System.out.print(x + \" \");\n",
    "}"
   ]
  },
  {
   "cell_type": "markdown",
   "metadata": {},
   "source": [
    "The code would print (A) as the while loop intially increments the value of x by 1 and then prints out the value. As a result, the first printed value would by -4 which is only present in answer option (A)."
   ]
  },
  {
   "cell_type": "markdown",
   "metadata": {},
   "source": [
    "### Question 4:\n",
    "What does the following code print?\n",
    "\n",
    "A. 20\n",
    "\n",
    "B. 21\n",
    "\n",
    "C. 25\n",
    "\n",
    "D. 30\n",
    "\n",
    "<details>\n",
    "<summary>Click to reveal answer:</summary> \n",
    "  B\n",
    "</details>\n",
    "\n",
    "Explain your answer. (explanation is graded not answer)"
   ]
  },
  {
   "cell_type": "code",
   "execution_count": null,
   "metadata": {
    "vscode": {
     "languageId": "java"
    }
   },
   "outputs": [],
   "source": [
    "int sum = 0;\n",
    "\n",
    "for (int i = 1; i <= 5; i++) {\n",
    "    if (i % 2 == 0) {\n",
    "        sum += i * 2;\n",
    "    } else {\n",
    "        sum += i;\n",
    "    }\n",
    "}\n",
    "\n",
    "System.out.println(sum);"
   ]
  },
  {
   "cell_type": "markdown",
   "metadata": {},
   "source": [
    "The answer is 21 as the look multiplies the value that is currently being iterated through in the list by 2 if if is even or just leaves it before incrementing the sum variable by the number. As a result, 1 would be initial value added to sum, followed by 4 (2*2), 3, 8 (4*2), and 5."
   ]
  },
  {
   "cell_type": "markdown",
   "metadata": {},
   "source": [
    "## Loops HW Hack"
   ]
  },
  {
   "cell_type": "markdown",
   "metadata": {},
   "source": [
    "### Easy Hack\n",
    "- Use a while loop to find the numbers from 1-50 that are divisible by 3 or 5, then store them into a list (make sure to print it out at the end)\n",
    "- Use a for loop to do the same thing detailed above"
   ]
  },
  {
   "cell_type": "code",
   "execution_count": 2,
   "metadata": {
    "vscode": {
     "languageId": "java"
    }
   },
   "outputs": [
    {
     "name": "stdout",
     "output_type": "stream",
     "text": [
      "Numbers divisible by 3/5: 3 5 6 9 10 12 15 18 20 21 24 25 27 30 33 35 36 39 40 42 45 48 50 Numbers divisible by 3/5: 3 5 6 9 10 12 15 18 20 21 24 25 27 30 33 35 36 39 40 42 45 48 50 0 0 0 0 0 0 0 0 0 0 0 0 0 0 0 0 0 0 0 0 0 0 0 "
     ]
    }
   ],
   "source": [
    "int i = 1;\n",
    "// Create an array to store numbers divisible by 3 or 5\n",
    "int[] divisibleBy = new int[50]; // Initial size as 50, as it's enough for the range.\n",
    "int index = 0;\n",
    "\n",
    "// Using a while loop to find numbers divisible by 3 or 5\n",
    "while (i <= 50) {\n",
    "    if (i % 3 == 0 || i % 5 == 0) {\n",
    "        divisibleBy[index] = i;\n",
    "        index++;\n",
    "    }\n",
    "    i++;\n",
    "}\n",
    "\n",
    "// Print the result after the loop\n",
    "System.out.print(\"Numbers divisible by 3/5: \");\n",
    "for (int j = 0; j < index; j++) {\n",
    "    System.out.print(divisibleBy[j] + \" \");\n",
    "}\n",
    "\n",
    "// Using a for loop to find numbers divisible by 3 or 5\n",
    "for (int i = 1; i <= 50; i++) {\n",
    "    if (i % 3 == 0 || i % 5 == 0) {\n",
    "        divisibleBy[index] = i;\n",
    "        index++;\n",
    "    }\n",
    "}\n",
    "\n",
    "// Print the result after the loop\n",
    "System.out.print(\"Numbers divisible by 3/5: \");\n",
    "for (int j = 0; j < index; j++) {\n",
    "    System.out.print(divisibleBy3Or5[j] + \" \");\n",
    "}"
   ]
  },
  {
   "cell_type": "markdown",
   "metadata": {},
   "source": [
    "### Harder Hack\n",
    "#### Palindromes are numbers that have the same value when reversed (ex: “123321” or “323”). Create a program that uses a while loop that outputs all palindromes in any given list. \n",
    "\n",
    "Sample Input: \n",
    "test_list = [5672, 235, 5537, 6032, 317, 8460, 1672, 8104, 7770, 4442, 913, 2508, 1116, 9969, 9091, 522, 8756, 9527, 7968, 1520, 4444, 515, 2882, 6556, 595]\n",
    "\n",
    "Sample Output:\n",
    "4444, 515, 2882, 6556, 595"
   ]
  },
  {
   "cell_type": "code",
   "execution_count": 5,
   "metadata": {
    "vscode": {
     "languageId": "java"
    }
   },
   "outputs": [
    {
     "name": "stdout",
     "output_type": "stream",
     "text": [
      "Palindromes in the list:\n",
      "4444\n",
      "515\n",
      "2882\n",
      "6556\n",
      "595\n"
     ]
    }
   ],
   "source": [
    "int[] input_numbers = {5672, 235, 5537, 6032, 317, 8460, 1672, 8104, 7770, 4442, 913, 2508, 1116, 9969, 9091, 522, 8756, 9527, 7968, 1520, 4444, 515, 2882, 6556, 595};\n",
    "int i = 0;\n",
    "\n",
    "System.out.println(\"Palindromes in the list:\");\n",
    "\n",
    "// While loop to iterate through the list\n",
    "while (i < input_numbers.length) {\n",
    "    int num = input_numbers[i];\n",
    "    int original = num;\n",
    "    int reversed = 0;\n",
    "\n",
    "    // Reversing the number\n",
    "    while (num != 0) {\n",
    "        int digit = num % 10;\n",
    "            reversed = reversed * 10 + digit;\n",
    "            num /= 10;\n",
    "        }\n",
    "\n",
    "        // Check if the original number is equal to the reversed number\n",
    "        if (original == reversed) {\n",
    "            System.out.println(original);\n",
    "        }\n",
    "        i++;\n",
    "        }\n"
   ]
  },
  {
   "cell_type": "markdown",
   "metadata": {},
   "source": [
    "## Bonus Hack (for above 0.9)\n",
    "### Use a for loop to output a spiral matrix with size n\n",
    "Example:\n",
    "\n",
    "Sample Input: n = 3\n",
    "\n",
    "Output: [[1, 2, 3], [8, 9, 4], [7, 6, 5]]"
   ]
  },
  {
   "cell_type": "code",
   "execution_count": 10,
   "metadata": {
    "vscode": {
     "languageId": "java"
    }
   },
   "outputs": [
    {
     "name": "stdout",
     "output_type": "stream",
     "text": [
      "1 2 3 \n",
      "8 9 4 \n",
      "7 6 5 \n"
     ]
    }
   ],
   "source": [
    "int test_in = 3;\n",
    "int[][] matrix = new int[n][n];\n",
    "\n",
    "int left = 0, right = n - 1, top = 0, bottom = n - 1;\n",
    "int num = 1;\n",
    "while (left <= right && top <= bottom) {\n",
    "    for (int i = left; i <= right; i++) {\n",
    "        matrix[top][i] = num++;\n",
    "    }\n",
    "    top++;\n",
    "    for (int i = top; i <= bottom; i++) {\n",
    "        matrix[i][right] = num++;\n",
    "    }\n",
    "    right--;\n",
    "    if (top <= bottom) {\n",
    "        for (int i = right; i >= left; i--) {\n",
    "            matrix[bottom][i] = num++;\n",
    "        }\n",
    "        bottom--;\n",
    "    }\n",
    "    if (left <= right) {\n",
    "        for (int i = bottom; i >= top; i--) {\n",
    "            matrix[i][left] = num++;\n",
    "        }\n",
    "        left++;\n",
    "    }\n",
    "}\n",
    "for (int[] row : matrix) {\n",
    "    for (int num : row) {\n",
    "        System.out.print(num + \" \");\n",
    "    }\n",
    "    System.out.println();\n",
    "}\n"
   ]
  }
 ],
 "metadata": {
  "kernelspec": {
   "display_name": "Java",
   "language": "java",
   "name": "java"
  },
  "language_info": {
   "codemirror_mode": "java",
   "file_extension": ".jshell",
   "mimetype": "text/x-java-source",
   "name": "Java",
   "pygments_lexer": "java",
   "version": "17.0.11+7-LTS-207"
  }
 },
 "nbformat": 4,
 "nbformat_minor": 2
}
