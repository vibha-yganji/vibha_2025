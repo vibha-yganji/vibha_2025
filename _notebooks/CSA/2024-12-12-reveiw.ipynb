{
 "cells": [
  {
   "cell_type": "markdown",
   "metadata": {
    "vscode": {
     "languageId": "raw"
    }
   },
   "source": [
    "---\n",
    "layout: post\n",
    "title: MC Review\n",
    "permalink: /re-review\n",
    "---"
   ]
  },
  {
   "cell_type": "markdown",
   "metadata": {},
   "source": [
    "**Question #39**: [diagram link](https://excalidraw.com/#json=hSib_fCWDyX-sqeu4MexK,km6FMSaFzOEfndMG7GoCHw)"
   ]
  },
  {
   "cell_type": "code",
   "execution_count": null,
   "metadata": {},
   "outputs": [
    {
     "name": "stdout",
     "output_type": "stream",
     "text": [
      "W\n",
      "WA\n",
      "WAT\n",
      "WATC\n"
     ]
    }
   ],
   "source": [
    "public static void whatsItDo(String str) {\n",
    "    int len = str.length();\n",
    "    if (len > 1) { // condition that will mark arrival at \"base case\"\n",
    "        String temp = str.substring(0, len - 1); \n",
    "        whatsItDo(temp); \n",
    "        System.out.println(temp);\n",
    "    }\n",
    "}\n",
    "\n",
    "whatsItDo(\"WATCH\");\n",
    "\n"
   ]
  },
  {
   "cell_type": "markdown",
   "metadata": {},
   "source": [
    "**Question#40**: [diagram link](https://excalidraw.com/#json=mrTorWySXU2GM2Uf6w_Pi,1PQ3KuyvepvFhpYFTTTGxw)"
   ]
  },
  {
   "cell_type": "code",
   "execution_count": 5,
   "metadata": {},
   "outputs": [
    {
     "data": {
      "text/plain": [
       "16"
      ]
     },
     "execution_count": 5,
     "metadata": {},
     "output_type": "execute_result"
    }
   ],
   "source": [
    "public int recur (int n)\n",
    "{\n",
    "    if (n <= 10)\n",
    "    {\n",
    "        return n*2;\n",
    "    }\n",
    "    else {\n",
    "        return recur(recur(n / 3));\n",
    "    }\n",
    "\n",
    "}\n",
    "\n",
    "recur(27);"
   ]
  }
 ],
 "metadata": {
  "kernelspec": {
   "display_name": "Java",
   "language": "java",
   "name": "java"
  },
  "language_info": {
   "codemirror_mode": "java",
   "file_extension": ".jshell",
   "mimetype": "text/x-java-source",
   "name": "java",
   "pygments_lexer": "java",
   "version": "17.0.11+7-LTS-207"
  }
 },
 "nbformat": 4,
 "nbformat_minor": 2
}
