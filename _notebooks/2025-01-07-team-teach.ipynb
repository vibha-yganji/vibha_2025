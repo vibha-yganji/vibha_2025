{
 "cells": [
  {
   "cell_type": "markdown",
   "metadata": {},
   "source": [
    "---\n",
    "layout: post\n",
    "title: Team Teach\n",
    "permalink: /vibha-section\n",
    "---"
   ]
  },
  {
   "cell_type": "markdown",
   "metadata": {
    "vscode": {
     "languageId": "plaintext"
    }
   },
   "source": [
    "##### **Question #1 on Exam - Methods + Control Structures**\n",
    "- Typical questions from this category require creation of methods that satisfy specific requirements through the use of expressions, conditional statements, and iterative statements.\n",
    "- question typically consists of **2 parts**"
   ]
  },
  {
   "cell_type": "markdown",
   "metadata": {},
   "source": [
    "---\n",
    "**Part (a):**\n",
    "- this question usually requires you to write a certain method that fits the given test cases and \"rules\" provided by the problem \n",
    "- rules + test cases may be provided as a table or as example method calls\n",
    "- a **precondition** is usually provided by the problem - a precondition is something that has to be true about the parameters of the function.\n",
    "- a boilerplate segment containing a method declaration is also given\n",
    "---"
   ]
  },
  {
   "cell_type": "markdown",
   "metadata": {},
   "source": [
    "**Common/General Penalties:**\n",
    "![image.png](https://i.ibb.co/yp2Nvt3/Image-1-7-25-at-12-33-PM.jpg)"
   ]
  },
  {
   "cell_type": "markdown",
   "metadata": {},
   "source": [
    "- some of the mistakes that do not have any penalties are mainly syntax + spelling issues (however, the code should be easily understood)\n",
    "\n"
   ]
  },
  {
   "cell_type": "markdown",
   "metadata": {},
   "source": [
    "---\n",
    "##### **Satisfying the Rules:**\n",
    "The rules that need to be satisfied by the method typically require the use of one or more of the following categories: \n",
    "   1. **conditional statements**\n",
    "   2. **iterative statements**\n",
    "---"
   ]
  },
  {
   "cell_type": "markdown",
   "metadata": {},
   "source": [
    "##### **Example of Conditional Statements:**\n",
    "\n",
    "![Example](https://i.ibb.co/ZddYQsN/Image-1-7-25-at-2-47-PM.jpg)\n",
    "---"
   ]
  },
  {
   "cell_type": "markdown",
   "metadata": {},
   "source": [
    "---\n",
    "##### **Example of Iterative Statements:**\n",
    "**Example Question:**\n",
    "\n",
    "![Problem Example](https://i.ibb.co/QQBfX5Z/Image-1-7-25-at-2-34-PM.jpg)\n",
    "\n",
    "**Example Answer:**\n",
    "\n",
    "![Problem Solution](https://i.ibb.co/dQBQW3q/Image-1-7-25-at-2-36-PM.jpg)\n",
    "\n",
    "##### **Generalizations/Reminders:**\n",
    "- All possible/needed iterations need to be accounted for.\n",
    "- Java does not allow you to use the '==' sign for comparison of strings; use the equals method instead.\n",
    "---"
   ]
  },
  {
   "cell_type": "markdown",
   "metadata": {},
   "source": [
    "**Part (b):**\n",
    "- this part is similar to part (a) and typically asks you to write a method that satisfies the given set of rules.\n",
    "- it may build upon the method created in part (a) (when this is done, it allows you to assume that the method in part (a) works as intended)\n"
   ]
  },
  {
   "cell_type": "markdown",
   "metadata": {},
   "source": [
    "##### **Overall Summary of Scoring Guidelines:**\n",
    "- Incorrect parameter types and the order of paramters in the method declaration will not be given credit\n",
    "- "
   ]
  }
 ],
 "metadata": {
  "language_info": {
   "name": "python"
  }
 },
 "nbformat": 4,
 "nbformat_minor": 2
}
