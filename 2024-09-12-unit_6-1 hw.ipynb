{
 "cells": [
  {
   "cell_type": "markdown",
   "metadata": {
    "vscode": {
     "languageId": "raw"
    }
   },
   "source": [
    "---\n",
    "layout: post\n",
    "type: collab\n",
    "title: Unit 6 - Arrays\n",
    "description: Unit 6 Homework\n",
    "comments: true\n",
    "permalink: unit6-p1/unit6-1\n",
    "---"
   ]
  },
  {
   "cell_type": "markdown",
   "metadata": {},
   "source": [
    "## Popcorn Hack 1(Time 0.5 minute)\n",
    "\n",
    "Create an array that represents numerous car brands(Audi, toyota,etc. )"
   ]
  },
  {
   "cell_type": "code",
   "execution_count": 1,
   "metadata": {
    "vscode": {
     "languageId": "java"
    }
   },
   "outputs": [
    {
     "name": "stdout",
     "output_type": "stream",
     "text": [
      "[Audi, Toyota, Tesla]\n"
     ]
    }
   ],
   "source": [
    "String[]car_brands = {\"Audi\", \"Toyota\", \"Tesla\"};\n",
    "System.out.println(Arrays.toString(car_brands));"
   ]
  },
  {
   "cell_type": "markdown",
   "metadata": {
    "vscode": {
     "languageId": "java"
    }
   },
   "source": [
    "## Popcorn Hack #2(Time 1.5 Minutes)\n",
    "\n",
    "\n",
    "1. Make an array of chars, representing people's grades\n",
    "2. Try to adjust the letter grade of at least 3 people"
   ]
  },
  {
   "cell_type": "code",
   "execution_count": 2,
   "metadata": {
    "vscode": {
     "languageId": "java"
    }
   },
   "outputs": [
    {
     "name": "stdout",
     "output_type": "stream",
     "text": [
      "CBC\n"
     ]
    }
   ],
   "source": [
    "char[] grades = {'A', 'B', 'C'};\n",
    "grades[0] = 'C';\n",
    "System.out.println(grades);"
   ]
  },
  {
   "cell_type": "markdown",
   "metadata": {},
   "source": [
    "## For Loop: Accessing List Elements\n",
    "\n",
    "**Popcorn hack question**\n",
    "\n",
    "Which part of the following code would I want to change if I wanted to access all odd indices of the list."
   ]
  },
  {
   "cell_type": "code",
   "execution_count": 3,
   "metadata": {
    "vscode": {
     "languageId": "java"
    }
   },
   "outputs": [
    {
     "name": "stdout",
     "output_type": "stream",
     "text": [
      "Even Index\n",
      "0\n",
      "2\n",
      "4\n",
      "Odd Index\n",
      "1\n",
      "3\n",
      "5\n"
     ]
    }
   ],
   "source": [
    "// EVEN\n",
    "int[] list = {0, 1, 2, 3, 4, 5};\n",
    "System.out.println(\"Even Index\");\n",
    "for(int index = 0; index < list.length; index+=2){\n",
    "    System.out.println(list[index]);\n",
    "}\n",
    "\n",
    "// ODD\n",
    "int[] list = {0, 1, 2, 3, 4, 5};\n",
    "System.out.println(\"Odd Index\");\n",
    "for(int index = 1; index < list.length; index+=2){\n",
    "    System.out.println(list[index]);\n",
    "}"
   ]
  },
  {
   "cell_type": "markdown",
   "metadata": {},
   "source": [
    "# Popcorn Hack: Rewrite For Loop with For Each Loop\n",
    "\n",
    "You are working as an intern for a car sales company at their IT department. \n",
    "Your new task your boss gave you is to post the prices and names of the newest cars to be sold\n",
    "The previous IT developer couldnt get their for loop to work.\n",
    "Could you fix the issue?\n",
    "\n",
    "\n",
    "Given the following code, rewrite the script to use a for each loop instead of the for loop and fix the problem"
   ]
  },
  {
   "cell_type": "code",
   "execution_count": 4,
   "metadata": {
    "vscode": {
     "languageId": "java"
    }
   },
   "outputs": [
    {
     "name": "stdout",
     "output_type": "stream",
     "text": [
      "CSAwesomeCar\n",
      "500\n",
      "ArrayceCar\n",
      "5000\n",
      "MortMobile\n",
      "9999\n"
     ]
    }
   ],
   "source": [
    "import java.util.HashMap;\n",
    "import java.util.Map;\n",
    "Map<String, Integer> carMap = new HashMap<String, Integer>();\n",
    "/*\n",
    " HashMap Syntax\n",
    " Map.Entry<String, Integer> entry for iterable loops\n",
    " Refer to the iterated HashMap as carMap.entrySet()\n",
    " entry.getKey()\n",
    "  entry.getValue()\n",
    "*/\n",
    "\n",
    "carMap.put(\"MortMobile\",9999);\n",
    "carMap.put(\"CSAwesomeCar\",500);\n",
    "carMap.put(\"ArrayceCar\",5000);\n",
    "\n",
    "for(Map.Entry<String, Integer> entry : carMap.entrySet()) //for the next developer: please fix this!!\n",
    "{\n",
    "    //System.out.println(carMap[i]);\n",
    "    //entry.getValue(entry.getKey());\n",
    "    System.out.println(entry.getKey()); // this line was changed\n",
    "    System.out.println(entry.getValue()); // this line was changed\n",
    "    \n",
    "}"
   ]
  },
  {
   "cell_type": "markdown",
   "metadata": {},
   "source": [
    "# Final Hack\n",
    "Finish the following code with a for each and normal for loop"
   ]
  },
  {
   "cell_type": "code",
   "execution_count": 5,
   "metadata": {
    "vscode": {
     "languageId": "java"
    }
   },
   "outputs": [
    {
     "name": "stdout",
     "output_type": "stream",
     "text": [
      "false\n",
      "true\n",
      "false\n",
      "true\n",
      "false\n",
      "true\n",
      "true\n",
      "true\n",
      "false\n",
      "true\n",
      "false\n",
      "true\n",
      "false\n",
      "true\n"
     ]
    }
   ],
   "source": [
    "int[] nums = {1,2,3,4,5,6,2000};\n",
    "\n",
    "//loop through the array and print if the current index is even\n",
    "for(int numElement : nums)\n",
    "{\n",
    "    System.out.println(numElement % 2 == 0);\n",
    "}\n",
    "\n",
    "//traditional for loop\n",
    "int[] nums = {1, 2, 3, 4, 5, 6, 2000};\n",
    "int sum = 0;\n",
    "\n",
    "for (int i = 0; i < nums.length; i++) {\n",
    "    if (i % 2 == 0) {  // Check if index is even\n",
    "        System.out.println(i%2 == 0);\n",
    "    }\n",
    "    if (i % 2 != 0) {  // Check if index is even\n",
    "        System.out.println(i%2 == 0);\n",
    "    }\n",
    "}\n"
   ]
  },
  {
   "cell_type": "markdown",
   "metadata": {},
   "source": [
    "### Popcorn Hack\n",
    "Implement a function to find the minimum of the EVEN INDEXED elements in array of integers. "
   ]
  },
  {
   "cell_type": "code",
   "execution_count": 6,
   "metadata": {
    "vscode": {
     "languageId": "java"
    }
   },
   "outputs": [
    {
     "name": "stdout",
     "output_type": "stream",
     "text": [
      "2.0\n"
     ]
    }
   ],
   "source": [
    "private double findMinEven(int [] values) {\n",
    "    /* Sets max to first number in the list. Min Value could be the min value */\n",
    "    double min = values[0];\n",
    "    \n",
    "\n",
    "    /* enhanced for loop notation */\n",
    "    for (double value : nums) {\n",
    "        /* check for max */\n",
    "        if (value < min) {\n",
    "            min = value;\n",
    "        }\n",
    "    }\n",
    "    return min;\n",
    "}\n",
    "\n",
    "int[] nums = {6, 2, 9, 4, 10, 6, 7};\n",
    "System.out.println(findMinEven(nums));"
   ]
  },
  {
   "cell_type": "markdown",
   "metadata": {},
   "source": [
    "Challenge Hack:\n",
    "Create a function that iterates through every X items and shifts *only* those elements Y shift left.\n",
    "\n",
    "Example: ({1, 2, 3, 4, 5, 6}, Y = 1, X = 2)\n",
    "Output: {5, 2, 1, 4, 3, 6}\n",
    "\n",
    "Example: ({1, 2, 3, 4, 5, 6, 7, 8, 9, 10}, Y = 2, X = 3)\n",
    "Output: {10, 2, 3, 1, 5, 6, 4, 8, 9, 7}"
   ]
  },
  {
   "cell_type": "code",
   "execution_count": 7,
   "metadata": {
    "vscode": {
     "languageId": "java"
    }
   },
   "outputs": [
    {
     "ename": "CompilationException",
     "evalue": "",
     "output_type": "error",
     "traceback": [
      "\u001b[1m\u001b[30m|   \u001b[1m\u001b[30mint[] shiftedArray = \u001b[0m\u001b[1m\u001b[30m\u001b[41mshiftRight\u001b[0m\u001b[1m\u001b[30m(test_1, 1, 2);\u001b[0m",
      "\u001b[1m\u001b[31mcannot find symbol\u001b[0m",
      "\u001b[1m\u001b[31m  symbol:   method shiftRight(int[],int,int)\u001b[0m",
      ""
     ]
    }
   ],
   "source": [
    "int[] numbers = {1, 2, 3, 4, 5, 6, 7, 8, 9, 10, 11, 12, 13, 14, 15, 16, 17, 18, 19, 20};\n",
    "int shift = 2;\n",
    "int space = 4;\n",
    "\n",
    "public class ShiftArray {\n",
    "    public static void main(String[] args) {\n",
    "        int[] numbers = {1, 2, 3, 4, 5, 6, 7, 8, 9, 10, 11, 12, 13, 14, 15, 16, 17, 18, 19, 20};\n",
    "        int shift = 1;\n",
    "        int space = 2;\n",
    "\n",
    "        int[] shiftedArray = shiftRight(numbers, shift, space);\n",
    "        for (int value : shiftedArray) {\n",
    "            System.out.print(value + \" \"); // Print the values in the new shifted array\n",
    "        }\n",
    "    }\n",
    "\n",
    "    private static int[] shiftRight(int[] values, int shift, int space) {\n",
    "        int n = values.length;\n",
    "        int[] result = new int[n]; // Create a new array\n",
    "\n",
    "        // Loop through the array in intervals of 'space'\n",
    "        for (int i = 0; i < n; i += space) {\n",
    "            // Define the bounds for this block\n",
    "            int start = i;\n",
    "            int end = Math.min(i + space, n); // Ensure we don't go out of bounds\n",
    "\n",
    "            // Perform the shift for this block with wrapping\n",
    "            int blockSize = end - start;\n",
    "\n",
    "            // Copy and shift the elements into the new array\n",
    "            for (int j = 0; j < blockSize; j++) {\n",
    "                result[start + ((j + shift) % blockSize)] = values[start + j];\n",
    "            }\n",
    "        }\n",
    "\n",
    "        return result; // Return the new array\n",
    "    }\n",
    "}\n",
    "\n",
    "\n",
    "int[] test_1 = {1, 2, 3, 4, 5, 6};\n",
    "int[] shiftedArray = shiftRight(test_1, 1, 2);\n",
    "for (int value : shiftedArray) {\n",
    "    System.out.print(value + \" \"); // Print the values in the new shifted array\n",
    "}\n",
    "\n",
    "// order of elements not working :(\n"
   ]
  }
 ],
 "metadata": {
  "kernelspec": {
   "display_name": "Java",
   "language": "java",
   "name": "java"
  },
  "language_info": {
   "codemirror_mode": "java",
   "file_extension": ".jshell",
   "mimetype": "text/x-java-source",
   "name": "Java",
   "pygments_lexer": "java",
   "version": "17.0.11+7-LTS-207"
  }
 },
 "nbformat": 4,
 "nbformat_minor": 2
}
